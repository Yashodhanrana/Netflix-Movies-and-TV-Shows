{
 "cells": [
  {
   "cell_type": "code",
   "execution_count": 1,
   "id": "b8b8b6b1",
   "metadata": {
    "_cell_guid": "b1076dfc-b9ad-4769-8c92-a6c4dae69d19",
    "_uuid": "8f2839f25d086af736a60e9eeb907d3b93b6e0e5",
    "execution": {
     "iopub.execute_input": "2023-01-04T15:21:26.118594Z",
     "iopub.status.busy": "2023-01-04T15:21:26.117340Z",
     "iopub.status.idle": "2023-01-04T15:21:28.710370Z",
     "shell.execute_reply": "2023-01-04T15:21:28.709094Z"
    },
    "papermill": {
     "duration": 2.617436,
     "end_time": "2023-01-04T15:21:28.713916",
     "exception": false,
     "start_time": "2023-01-04T15:21:26.096480",
     "status": "completed"
    },
    "tags": []
   },
   "outputs": [],
   "source": [
    "#importing Libraries\n",
    "import numpy as np # linear algebra\n",
    "import pandas as pd # data processing, CSV file I/O (e.g. pd.read_csv)\n",
    "import seaborn as sns\n",
    "import matplotlib.pyplot as plt\n",
    "import plotly.express as px\n",
    "import plotly.graph_objects as go"
   ]
  },
  {
   "cell_type": "markdown",
   "id": "29896ea6",
   "metadata": {
    "papermill": {
     "duration": 0.015498,
     "end_time": "2023-01-04T15:21:28.743132",
     "exception": false,
     "start_time": "2023-01-04T15:21:28.727634",
     "status": "completed"
    },
    "tags": []
   },
   "source": [
    "# Loading the file "
   ]
  },
  {
   "cell_type": "code",
   "execution_count": 2,
   "id": "747b7d47",
   "metadata": {
    "execution": {
     "iopub.execute_input": "2023-01-04T15:21:28.771756Z",
     "iopub.status.busy": "2023-01-04T15:21:28.771252Z",
     "iopub.status.idle": "2023-01-04T15:21:28.985386Z",
     "shell.execute_reply": "2023-01-04T15:21:28.983718Z"
    },
    "papermill": {
     "duration": 0.232067,
     "end_time": "2023-01-04T15:21:28.988702",
     "exception": false,
     "start_time": "2023-01-04T15:21:28.756635",
     "status": "completed"
    },
    "tags": []
   },
   "outputs": [
    {
     "data": {
      "text/html": [
       "<div>\n",
       "<style scoped>\n",
       "    .dataframe tbody tr th:only-of-type {\n",
       "        vertical-align: middle;\n",
       "    }\n",
       "\n",
       "    .dataframe tbody tr th {\n",
       "        vertical-align: top;\n",
       "    }\n",
       "\n",
       "    .dataframe thead th {\n",
       "        text-align: right;\n",
       "    }\n",
       "</style>\n",
       "<table border=\"1\" class=\"dataframe\">\n",
       "  <thead>\n",
       "    <tr style=\"text-align: right;\">\n",
       "      <th></th>\n",
       "      <th>show_id</th>\n",
       "      <th>type</th>\n",
       "      <th>title</th>\n",
       "      <th>director</th>\n",
       "      <th>cast</th>\n",
       "      <th>country</th>\n",
       "      <th>date_added</th>\n",
       "      <th>release_year</th>\n",
       "      <th>rating</th>\n",
       "      <th>duration</th>\n",
       "      <th>listed_in</th>\n",
       "      <th>description</th>\n",
       "    </tr>\n",
       "  </thead>\n",
       "  <tbody>\n",
       "    <tr>\n",
       "      <th>0</th>\n",
       "      <td>s1</td>\n",
       "      <td>Movie</td>\n",
       "      <td>Dick Johnson Is Dead</td>\n",
       "      <td>Kirsten Johnson</td>\n",
       "      <td>NaN</td>\n",
       "      <td>United States</td>\n",
       "      <td>September 25, 2021</td>\n",
       "      <td>2020</td>\n",
       "      <td>PG-13</td>\n",
       "      <td>90 min</td>\n",
       "      <td>Documentaries</td>\n",
       "      <td>As her father nears the end of his life, filmm...</td>\n",
       "    </tr>\n",
       "    <tr>\n",
       "      <th>1</th>\n",
       "      <td>s2</td>\n",
       "      <td>TV Show</td>\n",
       "      <td>Blood &amp; Water</td>\n",
       "      <td>NaN</td>\n",
       "      <td>Ama Qamata, Khosi Ngema, Gail Mabalane, Thaban...</td>\n",
       "      <td>South Africa</td>\n",
       "      <td>September 24, 2021</td>\n",
       "      <td>2021</td>\n",
       "      <td>TV-MA</td>\n",
       "      <td>2 Seasons</td>\n",
       "      <td>International TV Shows, TV Dramas, TV Mysteries</td>\n",
       "      <td>After crossing paths at a party, a Cape Town t...</td>\n",
       "    </tr>\n",
       "    <tr>\n",
       "      <th>2</th>\n",
       "      <td>s3</td>\n",
       "      <td>TV Show</td>\n",
       "      <td>Ganglands</td>\n",
       "      <td>Julien Leclercq</td>\n",
       "      <td>Sami Bouajila, Tracy Gotoas, Samuel Jouy, Nabi...</td>\n",
       "      <td>NaN</td>\n",
       "      <td>September 24, 2021</td>\n",
       "      <td>2021</td>\n",
       "      <td>TV-MA</td>\n",
       "      <td>1 Season</td>\n",
       "      <td>Crime TV Shows, International TV Shows, TV Act...</td>\n",
       "      <td>To protect his family from a powerful drug lor...</td>\n",
       "    </tr>\n",
       "    <tr>\n",
       "      <th>3</th>\n",
       "      <td>s4</td>\n",
       "      <td>TV Show</td>\n",
       "      <td>Jailbirds New Orleans</td>\n",
       "      <td>NaN</td>\n",
       "      <td>NaN</td>\n",
       "      <td>NaN</td>\n",
       "      <td>September 24, 2021</td>\n",
       "      <td>2021</td>\n",
       "      <td>TV-MA</td>\n",
       "      <td>1 Season</td>\n",
       "      <td>Docuseries, Reality TV</td>\n",
       "      <td>Feuds, flirtations and toilet talk go down amo...</td>\n",
       "    </tr>\n",
       "    <tr>\n",
       "      <th>4</th>\n",
       "      <td>s5</td>\n",
       "      <td>TV Show</td>\n",
       "      <td>Kota Factory</td>\n",
       "      <td>NaN</td>\n",
       "      <td>Mayur More, Jitendra Kumar, Ranjan Raj, Alam K...</td>\n",
       "      <td>India</td>\n",
       "      <td>September 24, 2021</td>\n",
       "      <td>2021</td>\n",
       "      <td>TV-MA</td>\n",
       "      <td>2 Seasons</td>\n",
       "      <td>International TV Shows, Romantic TV Shows, TV ...</td>\n",
       "      <td>In a city of coaching centers known to train I...</td>\n",
       "    </tr>\n",
       "  </tbody>\n",
       "</table>\n",
       "</div>"
      ],
      "text/plain": [
       "  show_id     type                  title         director  \\\n",
       "0      s1    Movie   Dick Johnson Is Dead  Kirsten Johnson   \n",
       "1      s2  TV Show          Blood & Water              NaN   \n",
       "2      s3  TV Show              Ganglands  Julien Leclercq   \n",
       "3      s4  TV Show  Jailbirds New Orleans              NaN   \n",
       "4      s5  TV Show           Kota Factory              NaN   \n",
       "\n",
       "                                                cast        country  \\\n",
       "0                                                NaN  United States   \n",
       "1  Ama Qamata, Khosi Ngema, Gail Mabalane, Thaban...   South Africa   \n",
       "2  Sami Bouajila, Tracy Gotoas, Samuel Jouy, Nabi...            NaN   \n",
       "3                                                NaN            NaN   \n",
       "4  Mayur More, Jitendra Kumar, Ranjan Raj, Alam K...          India   \n",
       "\n",
       "           date_added  release_year rating   duration  \\\n",
       "0  September 25, 2021          2020  PG-13     90 min   \n",
       "1  September 24, 2021          2021  TV-MA  2 Seasons   \n",
       "2  September 24, 2021          2021  TV-MA   1 Season   \n",
       "3  September 24, 2021          2021  TV-MA   1 Season   \n",
       "4  September 24, 2021          2021  TV-MA  2 Seasons   \n",
       "\n",
       "                                           listed_in  \\\n",
       "0                                      Documentaries   \n",
       "1    International TV Shows, TV Dramas, TV Mysteries   \n",
       "2  Crime TV Shows, International TV Shows, TV Act...   \n",
       "3                             Docuseries, Reality TV   \n",
       "4  International TV Shows, Romantic TV Shows, TV ...   \n",
       "\n",
       "                                         description  \n",
       "0  As her father nears the end of his life, filmm...  \n",
       "1  After crossing paths at a party, a Cape Town t...  \n",
       "2  To protect his family from a powerful drug lor...  \n",
       "3  Feuds, flirtations and toilet talk go down amo...  \n",
       "4  In a city of coaching centers known to train I...  "
      ]
     },
     "execution_count": 2,
     "metadata": {},
     "output_type": "execute_result"
    }
   ],
   "source": [
    "#Loading the Files\n",
    "# Displaying first five rows\n",
    "df = pd.read_csv("netflix_titles.csv")\n",
    "df.head()"
   ]
  },
  {
   "cell_type": "markdown",
   "id": "c38c39ae",
   "metadata": {
    "papermill": {
     "duration": 0.013231,
     "end_time": "2023-01-04T15:21:29.015223",
     "exception": false,
     "start_time": "2023-01-04T15:21:29.001992",
     "status": "completed"
    },
    "tags": []
   },
   "source": [
    "# Let have see some insights into the data\n",
    "- Dataset information\n",
    "- Dataset types\n",
    "- Some statistical points (describe functions)"
   ]
  },
  {
   "cell_type": "code",
   "execution_count": 3,
   "id": "7209d79f",
   "metadata": {
    "execution": {
     "iopub.execute_input": "2023-01-04T15:21:29.044052Z",
     "iopub.status.busy": "2023-01-04T15:21:29.043598Z",
     "iopub.status.idle": "2023-01-04T15:21:29.078088Z",
     "shell.execute_reply": "2023-01-04T15:21:29.076809Z"
    },
    "papermill": {
     "duration": 0.052284,
     "end_time": "2023-01-04T15:21:29.080797",
     "exception": false,
     "start_time": "2023-01-04T15:21:29.028513",
     "status": "completed"
    },
    "tags": []
   },
   "outputs": [
    {
     "name": "stdout",
     "output_type": "stream",
     "text": [
      "<class 'pandas.core.frame.DataFrame'>\n",
      "RangeIndex: 8807 entries, 0 to 8806\n",
      "Data columns (total 12 columns):\n",
      " #   Column        Non-Null Count  Dtype \n",
      "---  ------        --------------  ----- \n",
      " 0   show_id       8807 non-null   object\n",
      " 1   type          8807 non-null   object\n",
      " 2   title         8807 non-null   object\n",
      " 3   director      6173 non-null   object\n",
      " 4   cast          7982 non-null   object\n",
      " 5   country       7976 non-null   object\n",
      " 6   date_added    8797 non-null   object\n",
      " 7   release_year  8807 non-null   int64 \n",
      " 8   rating        8803 non-null   object\n",
      " 9   duration      8804 non-null   object\n",
      " 10  listed_in     8807 non-null   object\n",
      " 11  description   8807 non-null   object\n",
      "dtypes: int64(1), object(11)\n",
      "memory usage: 825.8+ KB\n"
     ]
    }
   ],
   "source": [
    "#info() method\n",
    "df.info()"
   ]
  },
  {
   "cell_type": "code",
   "execution_count": 4,
   "id": "7c7976bf",
   "metadata": {
    "execution": {
     "iopub.execute_input": "2023-01-04T15:21:29.110084Z",
     "iopub.status.busy": "2023-01-04T15:21:29.109634Z",
     "iopub.status.idle": "2023-01-04T15:21:29.120744Z",
     "shell.execute_reply": "2023-01-04T15:21:29.119359Z"
    },
    "papermill": {
     "duration": 0.028588,
     "end_time": "2023-01-04T15:21:29.123484",
     "exception": false,
     "start_time": "2023-01-04T15:21:29.094896",
     "status": "completed"
    },
    "tags": []
   },
   "outputs": [
    {
     "data": {
      "text/plain": [
       "show_id         object\n",
       "type            object\n",
       "title           object\n",
       "director        object\n",
       "cast            object\n",
       "country         object\n",
       "date_added      object\n",
       "release_year     int64\n",
       "rating          object\n",
       "duration        object\n",
       "listed_in       object\n",
       "description     object\n",
       "dtype: object"
      ]
     },
     "execution_count": 4,
     "metadata": {},
     "output_type": "execute_result"
    }
   ],
   "source": [
    "#data types through dtpyes\n",
    "df.dtypes"
   ]
  },
  {
   "cell_type": "code",
   "execution_count": 5,
   "id": "2424a691",
   "metadata": {
    "execution": {
     "iopub.execute_input": "2023-01-04T15:21:29.153554Z",
     "iopub.status.busy": "2023-01-04T15:21:29.153125Z",
     "iopub.status.idle": "2023-01-04T15:21:29.172441Z",
     "shell.execute_reply": "2023-01-04T15:21:29.171211Z"
    },
    "papermill": {
     "duration": 0.037653,
     "end_time": "2023-01-04T15:21:29.174985",
     "exception": false,
     "start_time": "2023-01-04T15:21:29.137332",
     "status": "completed"
    },
    "tags": []
   },
   "outputs": [
    {
     "data": {
      "text/html": [
       "<div>\n",
       "<style scoped>\n",
       "    .dataframe tbody tr th:only-of-type {\n",
       "        vertical-align: middle;\n",
       "    }\n",
       "\n",
       "    .dataframe tbody tr th {\n",
       "        vertical-align: top;\n",
       "    }\n",
       "\n",
       "    .dataframe thead th {\n",
       "        text-align: right;\n",
       "    }\n",
       "</style>\n",
       "<table border=\"1\" class=\"dataframe\">\n",
       "  <thead>\n",
       "    <tr style=\"text-align: right;\">\n",
       "      <th></th>\n",
       "      <th>release_year</th>\n",
       "    </tr>\n",
       "  </thead>\n",
       "  <tbody>\n",
       "    <tr>\n",
       "      <th>count</th>\n",
       "      <td>8807.000000</td>\n",
       "    </tr>\n",
       "    <tr>\n",
       "      <th>mean</th>\n",
       "      <td>2014.180198</td>\n",
       "    </tr>\n",
       "    <tr>\n",
       "      <th>std</th>\n",
       "      <td>8.819312</td>\n",
       "    </tr>\n",
       "    <tr>\n",
       "      <th>min</th>\n",
       "      <td>1925.000000</td>\n",
       "    </tr>\n",
       "    <tr>\n",
       "      <th>25%</th>\n",
       "      <td>2013.000000</td>\n",
       "    </tr>\n",
       "    <tr>\n",
       "      <th>50%</th>\n",
       "      <td>2017.000000</td>\n",
       "    </tr>\n",
       "    <tr>\n",
       "      <th>75%</th>\n",
       "      <td>2019.000000</td>\n",
       "    </tr>\n",
       "    <tr>\n",
       "      <th>max</th>\n",
       "      <td>2021.000000</td>\n",
       "    </tr>\n",
       "  </tbody>\n",
       "</table>\n",
       "</div>"
      ],
      "text/plain": [
       "       release_year\n",
       "count   8807.000000\n",
       "mean    2014.180198\n",
       "std        8.819312\n",
       "min     1925.000000\n",
       "25%     2013.000000\n",
       "50%     2017.000000\n",
       "75%     2019.000000\n",
       "max     2021.000000"
      ]
     },
     "execution_count": 5,
     "metadata": {},
     "output_type": "execute_result"
    }
   ],
   "source": [
    "#describe() to see the integers data types\n",
    "df.describe()"
   ]
  },
  {
   "cell_type": "markdown",
   "id": "227e5eb5",
   "metadata": {
    "papermill": {
     "duration": 0.013258,
     "end_time": "2023-01-04T15:21:29.201762",
     "exception": false,
     "start_time": "2023-01-04T15:21:29.188504",
     "status": "completed"
    },
    "tags": []
   },
   "source": [
    "# See any NULL values"
   ]
  },
  {
   "cell_type": "code",
   "execution_count": 6,
   "id": "4bdfba4d",
   "metadata": {
    "execution": {
     "iopub.execute_input": "2023-01-04T15:21:29.231009Z",
     "iopub.status.busy": "2023-01-04T15:21:29.230576Z",
     "iopub.status.idle": "2023-01-04T15:21:29.247085Z",
     "shell.execute_reply": "2023-01-04T15:21:29.245715Z"
    },
    "papermill": {
     "duration": 0.034486,
     "end_time": "2023-01-04T15:21:29.249646",
     "exception": false,
     "start_time": "2023-01-04T15:21:29.215160",
     "status": "completed"
    },
    "tags": []
   },
   "outputs": [
    {
     "data": {
      "text/plain": [
       "show_id            0\n",
       "type               0\n",
       "title              0\n",
       "director        2634\n",
       "cast             825\n",
       "country          831\n",
       "date_added        10\n",
       "release_year       0\n",
       "rating             4\n",
       "duration           3\n",
       "listed_in          0\n",
       "description        0\n",
       "dtype: int64"
      ]
     },
     "execution_count": 6,
     "metadata": {},
     "output_type": "execute_result"
    }
   ],
   "source": [
    "#See if there is any null value inside the data\n",
    "df.isnull().sum()"
   ]
  },
  {
   "cell_type": "code",
   "execution_count": 7,
   "id": "8ec818ad",
   "metadata": {
    "execution": {
     "iopub.execute_input": "2023-01-04T15:21:29.279581Z",
     "iopub.status.busy": "2023-01-04T15:21:29.279102Z",
     "iopub.status.idle": "2023-01-04T15:21:29.296916Z",
     "shell.execute_reply": "2023-01-04T15:21:29.295527Z"
    },
    "papermill": {
     "duration": 0.036181,
     "end_time": "2023-01-04T15:21:29.299716",
     "exception": false,
     "start_time": "2023-01-04T15:21:29.263535",
     "status": "completed"
    },
    "tags": []
   },
   "outputs": [
    {
     "data": {
      "text/plain": [
       "director        2634\n",
       "country          831\n",
       "cast             825\n",
       "date_added        10\n",
       "rating             4\n",
       "duration           3\n",
       "show_id            0\n",
       "type               0\n",
       "title              0\n",
       "release_year       0\n",
       "listed_in          0\n",
       "description        0\n",
       "dtype: int64"
      ]
     },
     "execution_count": 7,
     "metadata": {},
     "output_type": "execute_result"
    }
   ],
   "source": [
    "df.isnull().sum().sort_values(ascending=False)"
   ]
  },
  {
   "cell_type": "markdown",
   "id": "0d925cbd",
   "metadata": {
    "papermill": {
     "duration": 0.013559,
     "end_time": "2023-01-04T15:21:29.327139",
     "exception": false,
     "start_time": "2023-01-04T15:21:29.313580",
     "status": "completed"
    },
    "tags": []
   },
   "source": [
    "So from the above we have \"director\" has so many null value than country. \\\n",
    "Now we will see the percentage wise "
   ]
  },
  {
   "cell_type": "code",
   "execution_count": 8,
   "id": "f5426a59",
   "metadata": {
    "execution": {
     "iopub.execute_input": "2023-01-04T15:21:29.356697Z",
     "iopub.status.busy": "2023-01-04T15:21:29.356276Z",
     "iopub.status.idle": "2023-01-04T15:21:29.375931Z",
     "shell.execute_reply": "2023-01-04T15:21:29.374625Z"
    },
    "papermill": {
     "duration": 0.037998,
     "end_time": "2023-01-04T15:21:29.379101",
     "exception": false,
     "start_time": "2023-01-04T15:21:29.341103",
     "status": "completed"
    },
    "tags": []
   },
   "outputs": [
    {
     "data": {
      "text/plain": [
       "director        29.91\n",
       "country          9.44\n",
       "cast             9.37\n",
       "date_added       0.11\n",
       "rating           0.05\n",
       "duration         0.03\n",
       "show_id          0.00\n",
       "type             0.00\n",
       "title            0.00\n",
       "release_year     0.00\n",
       "listed_in        0.00\n",
       "description      0.00\n",
       "dtype: float64"
      ]
     },
     "execution_count": 8,
     "metadata": {},
     "output_type": "execute_result"
    }
   ],
   "source": [
    "round(df.isnull().sum()/df.shape[0]*100,2).sort_values(ascending=False)"
   ]
  },
  {
   "cell_type": "markdown",
   "id": "0006aad8",
   "metadata": {
    "papermill": {
     "duration": 0.01347,
     "end_time": "2023-01-04T15:21:29.406920",
     "exception": false,
     "start_time": "2023-01-04T15:21:29.393450",
     "status": "completed"
    },
    "tags": []
   },
   "source": [
    "So column director has 29.91% data are null and country is just 9.44% of null values.\\\n",
    "So we have two others columns are missing rating and duration but little bit so we drop it."
   ]
  },
  {
   "cell_type": "code",
   "execution_count": 9,
   "id": "5305cad9",
   "metadata": {
    "execution": {
     "iopub.execute_input": "2023-01-04T15:21:29.436925Z",
     "iopub.status.busy": "2023-01-04T15:21:29.436496Z",
     "iopub.status.idle": "2023-01-04T15:21:29.447799Z",
     "shell.execute_reply": "2023-01-04T15:21:29.446617Z"
    },
    "papermill": {
     "duration": 0.029715,
     "end_time": "2023-01-04T15:21:29.450468",
     "exception": false,
     "start_time": "2023-01-04T15:21:29.420753",
     "status": "completed"
    },
    "tags": []
   },
   "outputs": [],
   "source": [
    "df.dropna(subset = [\"rating\", \"duration\"], axis=0, inplace=True)"
   ]
  },
  {
   "cell_type": "code",
   "execution_count": 10,
   "id": "e69ebd76",
   "metadata": {
    "execution": {
     "iopub.execute_input": "2023-01-04T15:21:29.480428Z",
     "iopub.status.busy": "2023-01-04T15:21:29.479926Z",
     "iopub.status.idle": "2023-01-04T15:21:29.488339Z",
     "shell.execute_reply": "2023-01-04T15:21:29.486968Z"
    },
    "papermill": {
     "duration": 0.026525,
     "end_time": "2023-01-04T15:21:29.491001",
     "exception": false,
     "start_time": "2023-01-04T15:21:29.464476",
     "status": "completed"
    },
    "tags": []
   },
   "outputs": [
    {
     "data": {
      "text/plain": [
       "(8800, 12)"
      ]
     },
     "execution_count": 10,
     "metadata": {},
     "output_type": "execute_result"
    }
   ],
   "source": [
    "df.shape"
   ]
  },
  {
   "cell_type": "markdown",
   "id": "ce5d4bef",
   "metadata": {
    "papermill": {
     "duration": 0.014711,
     "end_time": "2023-01-04T15:21:29.520349",
     "exception": false,
     "start_time": "2023-01-04T15:21:29.505638",
     "status": "completed"
    },
    "tags": []
   },
   "source": [
    "Replace the missing value in country with \"Unknown\" value"
   ]
  },
  {
   "cell_type": "code",
   "execution_count": 11,
   "id": "2f5deea5",
   "metadata": {
    "execution": {
     "iopub.execute_input": "2023-01-04T15:21:29.552167Z",
     "iopub.status.busy": "2023-01-04T15:21:29.551647Z",
     "iopub.status.idle": "2023-01-04T15:21:29.560863Z",
     "shell.execute_reply": "2023-01-04T15:21:29.559231Z"
    },
    "papermill": {
     "duration": 0.028484,
     "end_time": "2023-01-04T15:21:29.563628",
     "exception": false,
     "start_time": "2023-01-04T15:21:29.535144",
     "status": "completed"
    },
    "tags": []
   },
   "outputs": [],
   "source": [
    "df[\"country\"].replace(np.NaN, \"Unknown\", inplace=True)"
   ]
  },
  {
   "cell_type": "markdown",
   "id": "c6469d89",
   "metadata": {
    "papermill": {
     "duration": 0.013694,
     "end_time": "2023-01-04T15:21:29.592064",
     "exception": false,
     "start_time": "2023-01-04T15:21:29.578370",
     "status": "completed"
    },
    "tags": []
   },
   "source": [
    "Now replacing missing values in \"cast\" column with \"No cast\""
   ]
  },
  {
   "cell_type": "code",
   "execution_count": 12,
   "id": "6aa501ab",
   "metadata": {
    "execution": {
     "iopub.execute_input": "2023-01-04T15:21:29.622522Z",
     "iopub.status.busy": "2023-01-04T15:21:29.622008Z",
     "iopub.status.idle": "2023-01-04T15:21:29.631333Z",
     "shell.execute_reply": "2023-01-04T15:21:29.629937Z"
    },
    "papermill": {
     "duration": 0.027887,
     "end_time": "2023-01-04T15:21:29.634042",
     "exception": false,
     "start_time": "2023-01-04T15:21:29.606155",
     "status": "completed"
    },
    "tags": []
   },
   "outputs": [],
   "source": [
    "df['cast'].replace(np.NaN, \"No Cast\", inplace = True)"
   ]
  },
  {
   "cell_type": "markdown",
   "id": "331bd81b",
   "metadata": {
    "papermill": {
     "duration": 0.013639,
     "end_time": "2023-01-04T15:21:29.662067",
     "exception": false,
     "start_time": "2023-01-04T15:21:29.648428",
     "status": "completed"
    },
    "tags": []
   },
   "source": [
    "Now replace missing values in \"director\" columns with \"No Director\""
   ]
  },
  {
   "cell_type": "code",
   "execution_count": 13,
   "id": "5619e241",
   "metadata": {
    "execution": {
     "iopub.execute_input": "2023-01-04T15:21:29.691868Z",
     "iopub.status.busy": "2023-01-04T15:21:29.691230Z",
     "iopub.status.idle": "2023-01-04T15:21:29.699388Z",
     "shell.execute_reply": "2023-01-04T15:21:29.698189Z"
    },
    "papermill": {
     "duration": 0.025882,
     "end_time": "2023-01-04T15:21:29.701827",
     "exception": false,
     "start_time": "2023-01-04T15:21:29.675945",
     "status": "completed"
    },
    "tags": []
   },
   "outputs": [],
   "source": [
    "df['director'].replace(np.NaN, \"No Director\", inplace=True)"
   ]
  },
  {
   "cell_type": "code",
   "execution_count": 14,
   "id": "16008e73",
   "metadata": {
    "execution": {
     "iopub.execute_input": "2023-01-04T15:21:29.733630Z",
     "iopub.status.busy": "2023-01-04T15:21:29.733134Z",
     "iopub.status.idle": "2023-01-04T15:21:29.746061Z",
     "shell.execute_reply": "2023-01-04T15:21:29.745086Z"
    },
    "papermill": {
     "duration": 0.031898,
     "end_time": "2023-01-04T15:21:29.748493",
     "exception": false,
     "start_time": "2023-01-04T15:21:29.716595",
     "status": "completed"
    },
    "tags": []
   },
   "outputs": [],
   "source": [
    "#drop date added colum\n",
    "df.dropna(subset=[\"date_added\"], axis=0, inplace = True)"
   ]
  },
  {
   "cell_type": "code",
   "execution_count": 15,
   "id": "1bd7e2c0",
   "metadata": {
    "execution": {
     "iopub.execute_input": "2023-01-04T15:21:29.778775Z",
     "iopub.status.busy": "2023-01-04T15:21:29.778037Z",
     "iopub.status.idle": "2023-01-04T15:21:29.793428Z",
     "shell.execute_reply": "2023-01-04T15:21:29.792225Z"
    },
    "papermill": {
     "duration": 0.033404,
     "end_time": "2023-01-04T15:21:29.795851",
     "exception": false,
     "start_time": "2023-01-04T15:21:29.762447",
     "status": "completed"
    },
    "tags": []
   },
   "outputs": [
    {
     "data": {
      "text/plain": [
       "show_id         0\n",
       "type            0\n",
       "title           0\n",
       "director        0\n",
       "cast            0\n",
       "country         0\n",
       "date_added      0\n",
       "release_year    0\n",
       "rating          0\n",
       "duration        0\n",
       "listed_in       0\n",
       "description     0\n",
       "dtype: int64"
      ]
     },
     "execution_count": 15,
     "metadata": {},
     "output_type": "execute_result"
    }
   ],
   "source": [
    "df.isnull().sum()"
   ]
  },
  {
   "cell_type": "code",
   "execution_count": 16,
   "id": "12d09400",
   "metadata": {
    "execution": {
     "iopub.execute_input": "2023-01-04T15:21:29.826194Z",
     "iopub.status.busy": "2023-01-04T15:21:29.825486Z",
     "iopub.status.idle": "2023-01-04T15:21:29.832788Z",
     "shell.execute_reply": "2023-01-04T15:21:29.831644Z"
    },
    "papermill": {
     "duration": 0.025147,
     "end_time": "2023-01-04T15:21:29.834958",
     "exception": false,
     "start_time": "2023-01-04T15:21:29.809811",
     "status": "completed"
    },
    "tags": []
   },
   "outputs": [
    {
     "data": {
      "text/plain": [
       "Index(['show_id', 'type', 'title', 'director', 'cast', 'country', 'date_added',\n",
       "       'release_year', 'rating', 'duration', 'listed_in', 'description'],\n",
       "      dtype='object')"
      ]
     },
     "execution_count": 16,
     "metadata": {},
     "output_type": "execute_result"
    }
   ],
   "source": [
    "# See the columns by calling columns\n",
    "df.columns"
   ]
  },
  {
   "cell_type": "markdown",
   "id": "b010304a",
   "metadata": {
    "papermill": {
     "duration": 0.013611,
     "end_time": "2023-01-04T15:21:29.862937",
     "exception": false,
     "start_time": "2023-01-04T15:21:29.849326",
     "status": "completed"
    },
    "tags": []
   },
   "source": [
    "## Filtering for movies and TV Show !\n",
    "Using the subseting skill to subset the data to filter only movies as we have TV shows and other type shows are there in the dataset."
   ]
  },
  {
   "cell_type": "code",
   "execution_count": 17,
   "id": "94e93fde",
   "metadata": {
    "execution": {
     "iopub.execute_input": "2023-01-04T15:21:29.893644Z",
     "iopub.status.busy": "2023-01-04T15:21:29.892868Z",
     "iopub.status.idle": "2023-01-04T15:21:29.903636Z",
     "shell.execute_reply": "2023-01-04T15:21:29.902174Z"
    },
    "papermill": {
     "duration": 0.029099,
     "end_time": "2023-01-04T15:21:29.906155",
     "exception": false,
     "start_time": "2023-01-04T15:21:29.877056",
     "status": "completed"
    },
    "tags": []
   },
   "outputs": [
    {
     "data": {
      "text/plain": [
       "Movie      6126\n",
       "TV Show    2664\n",
       "Name: type, dtype: int64"
      ]
     },
     "execution_count": 17,
     "metadata": {},
     "output_type": "execute_result"
    }
   ],
   "source": [
    "df['type'].value_counts()"
   ]
  },
  {
   "cell_type": "code",
   "execution_count": 18,
   "id": "b4179fc0",
   "metadata": {
    "execution": {
     "iopub.execute_input": "2023-01-04T15:21:29.937477Z",
     "iopub.status.busy": "2023-01-04T15:21:29.936977Z",
     "iopub.status.idle": "2023-01-04T15:21:29.958490Z",
     "shell.execute_reply": "2023-01-04T15:21:29.957280Z"
    },
    "papermill": {
     "duration": 0.040279,
     "end_time": "2023-01-04T15:21:29.961000",
     "exception": false,
     "start_time": "2023-01-04T15:21:29.920721",
     "status": "completed"
    },
    "tags": []
   },
   "outputs": [
    {
     "data": {
      "text/html": [
       "<div>\n",
       "<style scoped>\n",
       "    .dataframe tbody tr th:only-of-type {\n",
       "        vertical-align: middle;\n",
       "    }\n",
       "\n",
       "    .dataframe tbody tr th {\n",
       "        vertical-align: top;\n",
       "    }\n",
       "\n",
       "    .dataframe thead th {\n",
       "        text-align: right;\n",
       "    }\n",
       "</style>\n",
       "<table border=\"1\" class=\"dataframe\">\n",
       "  <thead>\n",
       "    <tr style=\"text-align: right;\">\n",
       "      <th></th>\n",
       "      <th>show_id</th>\n",
       "      <th>type</th>\n",
       "      <th>title</th>\n",
       "      <th>director</th>\n",
       "      <th>cast</th>\n",
       "      <th>country</th>\n",
       "      <th>date_added</th>\n",
       "      <th>release_year</th>\n",
       "      <th>rating</th>\n",
       "      <th>duration</th>\n",
       "      <th>listed_in</th>\n",
       "      <th>description</th>\n",
       "    </tr>\n",
       "  </thead>\n",
       "  <tbody>\n",
       "    <tr>\n",
       "      <th>0</th>\n",
       "      <td>s1</td>\n",
       "      <td>Movie</td>\n",
       "      <td>Dick Johnson Is Dead</td>\n",
       "      <td>Kirsten Johnson</td>\n",
       "      <td>No Cast</td>\n",
       "      <td>United States</td>\n",
       "      <td>September 25, 2021</td>\n",
       "      <td>2020</td>\n",
       "      <td>PG-13</td>\n",
       "      <td>90 min</td>\n",
       "      <td>Documentaries</td>\n",
       "      <td>As her father nears the end of his life, filmm...</td>\n",
       "    </tr>\n",
       "    <tr>\n",
       "      <th>6</th>\n",
       "      <td>s7</td>\n",
       "      <td>Movie</td>\n",
       "      <td>My Little Pony: A New Generation</td>\n",
       "      <td>Robert Cullen, José Luis Ucha</td>\n",
       "      <td>Vanessa Hudgens, Kimiko Glenn, James Marsden, ...</td>\n",
       "      <td>Unknown</td>\n",
       "      <td>September 24, 2021</td>\n",
       "      <td>2021</td>\n",
       "      <td>PG</td>\n",
       "      <td>91 min</td>\n",
       "      <td>Children &amp; Family Movies</td>\n",
       "      <td>Equestria's divided. But a bright-eyed hero be...</td>\n",
       "    </tr>\n",
       "  </tbody>\n",
       "</table>\n",
       "</div>"
      ],
      "text/plain": [
       "  show_id   type                             title  \\\n",
       "0      s1  Movie              Dick Johnson Is Dead   \n",
       "6      s7  Movie  My Little Pony: A New Generation   \n",
       "\n",
       "                        director  \\\n",
       "0                Kirsten Johnson   \n",
       "6  Robert Cullen, José Luis Ucha   \n",
       "\n",
       "                                                cast        country  \\\n",
       "0                                            No Cast  United States   \n",
       "6  Vanessa Hudgens, Kimiko Glenn, James Marsden, ...        Unknown   \n",
       "\n",
       "           date_added  release_year rating duration                 listed_in  \\\n",
       "0  September 25, 2021          2020  PG-13   90 min             Documentaries   \n",
       "6  September 24, 2021          2021     PG   91 min  Children & Family Movies   \n",
       "\n",
       "                                         description  \n",
       "0  As her father nears the end of his life, filmm...  \n",
       "6  Equestria's divided. But a bright-eyed hero be...  "
      ]
     },
     "execution_count": 18,
     "metadata": {},
     "output_type": "execute_result"
    }
   ],
   "source": [
    "df_movies = df[df['type'] == \"Movie\"]\n",
    "df_movies.head(2)"
   ]
  },
  {
   "cell_type": "code",
   "execution_count": 19,
   "id": "3a11d90e",
   "metadata": {
    "execution": {
     "iopub.execute_input": "2023-01-04T15:21:29.992968Z",
     "iopub.status.busy": "2023-01-04T15:21:29.992529Z",
     "iopub.status.idle": "2023-01-04T15:21:30.013158Z",
     "shell.execute_reply": "2023-01-04T15:21:30.012049Z"
    },
    "papermill": {
     "duration": 0.039908,
     "end_time": "2023-01-04T15:21:30.015699",
     "exception": false,
     "start_time": "2023-01-04T15:21:29.975791",
     "status": "completed"
    },
    "tags": []
   },
   "outputs": [
    {
     "data": {
      "text/html": [
       "<div>\n",
       "<style scoped>\n",
       "    .dataframe tbody tr th:only-of-type {\n",
       "        vertical-align: middle;\n",
       "    }\n",
       "\n",
       "    .dataframe tbody tr th {\n",
       "        vertical-align: top;\n",
       "    }\n",
       "\n",
       "    .dataframe thead th {\n",
       "        text-align: right;\n",
       "    }\n",
       "</style>\n",
       "<table border=\"1\" class=\"dataframe\">\n",
       "  <thead>\n",
       "    <tr style=\"text-align: right;\">\n",
       "      <th></th>\n",
       "      <th>show_id</th>\n",
       "      <th>type</th>\n",
       "      <th>title</th>\n",
       "      <th>director</th>\n",
       "      <th>cast</th>\n",
       "      <th>country</th>\n",
       "      <th>date_added</th>\n",
       "      <th>release_year</th>\n",
       "      <th>rating</th>\n",
       "      <th>duration</th>\n",
       "      <th>listed_in</th>\n",
       "      <th>description</th>\n",
       "    </tr>\n",
       "  </thead>\n",
       "  <tbody>\n",
       "    <tr>\n",
       "      <th>1</th>\n",
       "      <td>s2</td>\n",
       "      <td>TV Show</td>\n",
       "      <td>Blood &amp; Water</td>\n",
       "      <td>No Director</td>\n",
       "      <td>Ama Qamata, Khosi Ngema, Gail Mabalane, Thaban...</td>\n",
       "      <td>South Africa</td>\n",
       "      <td>September 24, 2021</td>\n",
       "      <td>2021</td>\n",
       "      <td>TV-MA</td>\n",
       "      <td>2 Seasons</td>\n",
       "      <td>International TV Shows, TV Dramas, TV Mysteries</td>\n",
       "      <td>After crossing paths at a party, a Cape Town t...</td>\n",
       "    </tr>\n",
       "    <tr>\n",
       "      <th>2</th>\n",
       "      <td>s3</td>\n",
       "      <td>TV Show</td>\n",
       "      <td>Ganglands</td>\n",
       "      <td>Julien Leclercq</td>\n",
       "      <td>Sami Bouajila, Tracy Gotoas, Samuel Jouy, Nabi...</td>\n",
       "      <td>Unknown</td>\n",
       "      <td>September 24, 2021</td>\n",
       "      <td>2021</td>\n",
       "      <td>TV-MA</td>\n",
       "      <td>1 Season</td>\n",
       "      <td>Crime TV Shows, International TV Shows, TV Act...</td>\n",
       "      <td>To protect his family from a powerful drug lor...</td>\n",
       "    </tr>\n",
       "  </tbody>\n",
       "</table>\n",
       "</div>"
      ],
      "text/plain": [
       "  show_id     type          title         director  \\\n",
       "1      s2  TV Show  Blood & Water      No Director   \n",
       "2      s3  TV Show      Ganglands  Julien Leclercq   \n",
       "\n",
       "                                                cast       country  \\\n",
       "1  Ama Qamata, Khosi Ngema, Gail Mabalane, Thaban...  South Africa   \n",
       "2  Sami Bouajila, Tracy Gotoas, Samuel Jouy, Nabi...       Unknown   \n",
       "\n",
       "           date_added  release_year rating   duration  \\\n",
       "1  September 24, 2021          2021  TV-MA  2 Seasons   \n",
       "2  September 24, 2021          2021  TV-MA   1 Season   \n",
       "\n",
       "                                           listed_in  \\\n",
       "1    International TV Shows, TV Dramas, TV Mysteries   \n",
       "2  Crime TV Shows, International TV Shows, TV Act...   \n",
       "\n",
       "                                         description  \n",
       "1  After crossing paths at a party, a Cape Town t...  \n",
       "2  To protect his family from a powerful drug lor...  "
      ]
     },
     "execution_count": 19,
     "metadata": {},
     "output_type": "execute_result"
    }
   ],
   "source": [
    "df_tv_show = df[df['type'] == \"TV Show\"]\n",
    "df_tv_show.head(2)"
   ]
  },
  {
   "cell_type": "code",
   "execution_count": 20,
   "id": "07b4dcb4",
   "metadata": {
    "execution": {
     "iopub.execute_input": "2023-01-04T15:21:30.047917Z",
     "iopub.status.busy": "2023-01-04T15:21:30.047486Z",
     "iopub.status.idle": "2023-01-04T15:21:30.158099Z",
     "shell.execute_reply": "2023-01-04T15:21:30.157094Z"
    },
    "papermill": {
     "duration": 0.129926,
     "end_time": "2023-01-04T15:21:30.160821",
     "exception": false,
     "start_time": "2023-01-04T15:21:30.030895",
     "status": "completed"
    },
    "tags": []
   },
   "outputs": [
    {
     "data": {
      "text/html": [
       "        <script type=\"text/javascript\">\n",
       "        window.PlotlyConfig = {MathJaxConfig: 'local'};\n",
       "        if (window.MathJax && window.MathJax.Hub && window.MathJax.Hub.Config) {window.MathJax.Hub.Config({SVG: {font: \"STIX-Web\"}});}\n",
       "        if (typeof require !== 'undefined') {\n",
       "        require.undef(\"plotly\");\n",
       "        requirejs.config({\n",
       "            paths: {\n",
       "                'plotly': ['https://cdn.plot.ly/plotly-2.14.0.min']\n",
       "            }\n",
       "        });\n",
       "        require(['plotly'], function(Plotly) {\n",
       "            window._Plotly = Plotly;\n",
       "        });\n",
       "        }\n",
       "        </script>\n",
       "        "
      ]
     },
     "metadata": {},
     "output_type": "display_data"
    },
    {
     "data": {
      "text/html": [
       "<div>                            <div id=\"6d60c4a8-ce89-4b47-aee8-cb4e3d2718d9\" class=\"plotly-graph-div\" style=\"height:525px; width:100%;\"></div>            <script type=\"text/javascript\">                require([\"plotly\"], function(Plotly) {                    window.PLOTLYENV=window.PLOTLYENV || {};                                    if (document.getElementById(\"6d60c4a8-ce89-4b47-aee8-cb4e3d2718d9\")) {                    Plotly.newPlot(                        \"6d60c4a8-ce89-4b47-aee8-cb4e3d2718d9\",                        [{\"hole\":0.5,\"labels\":[\"Movie\",\"TV Show\"],\"title\":{\"text\":\"Movies vs TV Shows\"},\"values\":[0.6969283276450512,0.3030716723549488],\"type\":\"pie\"}],                        {\"template\":{\"data\":{\"histogram2dcontour\":[{\"type\":\"histogram2dcontour\",\"colorbar\":{\"outlinewidth\":0,\"ticks\":\"\"},\"colorscale\":[[0.0,\"#0d0887\"],[0.1111111111111111,\"#46039f\"],[0.2222222222222222,\"#7201a8\"],[0.3333333333333333,\"#9c179e\"],[0.4444444444444444,\"#bd3786\"],[0.5555555555555556,\"#d8576b\"],[0.6666666666666666,\"#ed7953\"],[0.7777777777777778,\"#fb9f3a\"],[0.8888888888888888,\"#fdca26\"],[1.0,\"#f0f921\"]]}],\"choropleth\":[{\"type\":\"choropleth\",\"colorbar\":{\"outlinewidth\":0,\"ticks\":\"\"}}],\"histogram2d\":[{\"type\":\"histogram2d\",\"colorbar\":{\"outlinewidth\":0,\"ticks\":\"\"},\"colorscale\":[[0.0,\"#0d0887\"],[0.1111111111111111,\"#46039f\"],[0.2222222222222222,\"#7201a8\"],[0.3333333333333333,\"#9c179e\"],[0.4444444444444444,\"#bd3786\"],[0.5555555555555556,\"#d8576b\"],[0.6666666666666666,\"#ed7953\"],[0.7777777777777778,\"#fb9f3a\"],[0.8888888888888888,\"#fdca26\"],[1.0,\"#f0f921\"]]}],\"heatmap\":[{\"type\":\"heatmap\",\"colorbar\":{\"outlinewidth\":0,\"ticks\":\"\"},\"colorscale\":[[0.0,\"#0d0887\"],[0.1111111111111111,\"#46039f\"],[0.2222222222222222,\"#7201a8\"],[0.3333333333333333,\"#9c179e\"],[0.4444444444444444,\"#bd3786\"],[0.5555555555555556,\"#d8576b\"],[0.6666666666666666,\"#ed7953\"],[0.7777777777777778,\"#fb9f3a\"],[0.8888888888888888,\"#fdca26\"],[1.0,\"#f0f921\"]]}],\"heatmapgl\":[{\"type\":\"heatmapgl\",\"colorbar\":{\"outlinewidth\":0,\"ticks\":\"\"},\"colorscale\":[[0.0,\"#0d0887\"],[0.1111111111111111,\"#46039f\"],[0.2222222222222222,\"#7201a8\"],[0.3333333333333333,\"#9c179e\"],[0.4444444444444444,\"#bd3786\"],[0.5555555555555556,\"#d8576b\"],[0.6666666666666666,\"#ed7953\"],[0.7777777777777778,\"#fb9f3a\"],[0.8888888888888888,\"#fdca26\"],[1.0,\"#f0f921\"]]}],\"contourcarpet\":[{\"type\":\"contourcarpet\",\"colorbar\":{\"outlinewidth\":0,\"ticks\":\"\"}}],\"contour\":[{\"type\":\"contour\",\"colorbar\":{\"outlinewidth\":0,\"ticks\":\"\"},\"colorscale\":[[0.0,\"#0d0887\"],[0.1111111111111111,\"#46039f\"],[0.2222222222222222,\"#7201a8\"],[0.3333333333333333,\"#9c179e\"],[0.4444444444444444,\"#bd3786\"],[0.5555555555555556,\"#d8576b\"],[0.6666666666666666,\"#ed7953\"],[0.7777777777777778,\"#fb9f3a\"],[0.8888888888888888,\"#fdca26\"],[1.0,\"#f0f921\"]]}],\"surface\":[{\"type\":\"surface\",\"colorbar\":{\"outlinewidth\":0,\"ticks\":\"\"},\"colorscale\":[[0.0,\"#0d0887\"],[0.1111111111111111,\"#46039f\"],[0.2222222222222222,\"#7201a8\"],[0.3333333333333333,\"#9c179e\"],[0.4444444444444444,\"#bd3786\"],[0.5555555555555556,\"#d8576b\"],[0.6666666666666666,\"#ed7953\"],[0.7777777777777778,\"#fb9f3a\"],[0.8888888888888888,\"#fdca26\"],[1.0,\"#f0f921\"]]}],\"mesh3d\":[{\"type\":\"mesh3d\",\"colorbar\":{\"outlinewidth\":0,\"ticks\":\"\"}}],\"scatter\":[{\"fillpattern\":{\"fillmode\":\"overlay\",\"size\":10,\"solidity\":0.2},\"type\":\"scatter\"}],\"parcoords\":[{\"type\":\"parcoords\",\"line\":{\"colorbar\":{\"outlinewidth\":0,\"ticks\":\"\"}}}],\"scatterpolargl\":[{\"type\":\"scatterpolargl\",\"marker\":{\"colorbar\":{\"outlinewidth\":0,\"ticks\":\"\"}}}],\"bar\":[{\"error_x\":{\"color\":\"#2a3f5f\"},\"error_y\":{\"color\":\"#2a3f5f\"},\"marker\":{\"line\":{\"color\":\"#E5ECF6\",\"width\":0.5},\"pattern\":{\"fillmode\":\"overlay\",\"size\":10,\"solidity\":0.2}},\"type\":\"bar\"}],\"scattergeo\":[{\"type\":\"scattergeo\",\"marker\":{\"colorbar\":{\"outlinewidth\":0,\"ticks\":\"\"}}}],\"scatterpolar\":[{\"type\":\"scatterpolar\",\"marker\":{\"colorbar\":{\"outlinewidth\":0,\"ticks\":\"\"}}}],\"histogram\":[{\"marker\":{\"pattern\":{\"fillmode\":\"overlay\",\"size\":10,\"solidity\":0.2}},\"type\":\"histogram\"}],\"scattergl\":[{\"type\":\"scattergl\",\"marker\":{\"colorbar\":{\"outlinewidth\":0,\"ticks\":\"\"}}}],\"scatter3d\":[{\"type\":\"scatter3d\",\"line\":{\"colorbar\":{\"outlinewidth\":0,\"ticks\":\"\"}},\"marker\":{\"colorbar\":{\"outlinewidth\":0,\"ticks\":\"\"}}}],\"scattermapbox\":[{\"type\":\"scattermapbox\",\"marker\":{\"colorbar\":{\"outlinewidth\":0,\"ticks\":\"\"}}}],\"scatterternary\":[{\"type\":\"scatterternary\",\"marker\":{\"colorbar\":{\"outlinewidth\":0,\"ticks\":\"\"}}}],\"scattercarpet\":[{\"type\":\"scattercarpet\",\"marker\":{\"colorbar\":{\"outlinewidth\":0,\"ticks\":\"\"}}}],\"carpet\":[{\"aaxis\":{\"endlinecolor\":\"#2a3f5f\",\"gridcolor\":\"white\",\"linecolor\":\"white\",\"minorgridcolor\":\"white\",\"startlinecolor\":\"#2a3f5f\"},\"baxis\":{\"endlinecolor\":\"#2a3f5f\",\"gridcolor\":\"white\",\"linecolor\":\"white\",\"minorgridcolor\":\"white\",\"startlinecolor\":\"#2a3f5f\"},\"type\":\"carpet\"}],\"table\":[{\"cells\":{\"fill\":{\"color\":\"#EBF0F8\"},\"line\":{\"color\":\"white\"}},\"header\":{\"fill\":{\"color\":\"#C8D4E3\"},\"line\":{\"color\":\"white\"}},\"type\":\"table\"}],\"barpolar\":[{\"marker\":{\"line\":{\"color\":\"#E5ECF6\",\"width\":0.5},\"pattern\":{\"fillmode\":\"overlay\",\"size\":10,\"solidity\":0.2}},\"type\":\"barpolar\"}],\"pie\":[{\"automargin\":true,\"type\":\"pie\"}]},\"layout\":{\"autotypenumbers\":\"strict\",\"colorway\":[\"#636efa\",\"#EF553B\",\"#00cc96\",\"#ab63fa\",\"#FFA15A\",\"#19d3f3\",\"#FF6692\",\"#B6E880\",\"#FF97FF\",\"#FECB52\"],\"font\":{\"color\":\"#2a3f5f\"},\"hovermode\":\"closest\",\"hoverlabel\":{\"align\":\"left\"},\"paper_bgcolor\":\"white\",\"plot_bgcolor\":\"#E5ECF6\",\"polar\":{\"bgcolor\":\"#E5ECF6\",\"angularaxis\":{\"gridcolor\":\"white\",\"linecolor\":\"white\",\"ticks\":\"\"},\"radialaxis\":{\"gridcolor\":\"white\",\"linecolor\":\"white\",\"ticks\":\"\"}},\"ternary\":{\"bgcolor\":\"#E5ECF6\",\"aaxis\":{\"gridcolor\":\"white\",\"linecolor\":\"white\",\"ticks\":\"\"},\"baxis\":{\"gridcolor\":\"white\",\"linecolor\":\"white\",\"ticks\":\"\"},\"caxis\":{\"gridcolor\":\"white\",\"linecolor\":\"white\",\"ticks\":\"\"}},\"coloraxis\":{\"colorbar\":{\"outlinewidth\":0,\"ticks\":\"\"}},\"colorscale\":{\"sequential\":[[0.0,\"#0d0887\"],[0.1111111111111111,\"#46039f\"],[0.2222222222222222,\"#7201a8\"],[0.3333333333333333,\"#9c179e\"],[0.4444444444444444,\"#bd3786\"],[0.5555555555555556,\"#d8576b\"],[0.6666666666666666,\"#ed7953\"],[0.7777777777777778,\"#fb9f3a\"],[0.8888888888888888,\"#fdca26\"],[1.0,\"#f0f921\"]],\"sequentialminus\":[[0.0,\"#0d0887\"],[0.1111111111111111,\"#46039f\"],[0.2222222222222222,\"#7201a8\"],[0.3333333333333333,\"#9c179e\"],[0.4444444444444444,\"#bd3786\"],[0.5555555555555556,\"#d8576b\"],[0.6666666666666666,\"#ed7953\"],[0.7777777777777778,\"#fb9f3a\"],[0.8888888888888888,\"#fdca26\"],[1.0,\"#f0f921\"]],\"diverging\":[[0,\"#8e0152\"],[0.1,\"#c51b7d\"],[0.2,\"#de77ae\"],[0.3,\"#f1b6da\"],[0.4,\"#fde0ef\"],[0.5,\"#f7f7f7\"],[0.6,\"#e6f5d0\"],[0.7,\"#b8e186\"],[0.8,\"#7fbc41\"],[0.9,\"#4d9221\"],[1,\"#276419\"]]},\"xaxis\":{\"gridcolor\":\"white\",\"linecolor\":\"white\",\"ticks\":\"\",\"title\":{\"standoff\":15},\"zerolinecolor\":\"white\",\"automargin\":true,\"zerolinewidth\":2},\"yaxis\":{\"gridcolor\":\"white\",\"linecolor\":\"white\",\"ticks\":\"\",\"title\":{\"standoff\":15},\"zerolinecolor\":\"white\",\"automargin\":true,\"zerolinewidth\":2},\"scene\":{\"xaxis\":{\"backgroundcolor\":\"#E5ECF6\",\"gridcolor\":\"white\",\"linecolor\":\"white\",\"showbackground\":true,\"ticks\":\"\",\"zerolinecolor\":\"white\",\"gridwidth\":2},\"yaxis\":{\"backgroundcolor\":\"#E5ECF6\",\"gridcolor\":\"white\",\"linecolor\":\"white\",\"showbackground\":true,\"ticks\":\"\",\"zerolinecolor\":\"white\",\"gridwidth\":2},\"zaxis\":{\"backgroundcolor\":\"#E5ECF6\",\"gridcolor\":\"white\",\"linecolor\":\"white\",\"showbackground\":true,\"ticks\":\"\",\"zerolinecolor\":\"white\",\"gridwidth\":2}},\"shapedefaults\":{\"line\":{\"color\":\"#2a3f5f\"}},\"annotationdefaults\":{\"arrowcolor\":\"#2a3f5f\",\"arrowhead\":0,\"arrowwidth\":1},\"geo\":{\"bgcolor\":\"white\",\"landcolor\":\"#E5ECF6\",\"subunitcolor\":\"white\",\"showland\":true,\"showlakes\":true,\"lakecolor\":\"white\"},\"title\":{\"x\":0.05},\"mapbox\":{\"style\":\"light\"}}}},                        {\"responsive\": true}                    ).then(function(){\n",
       "                            \n",
       "var gd = document.getElementById('6d60c4a8-ce89-4b47-aee8-cb4e3d2718d9');\n",
       "var x = new MutationObserver(function (mutations, observer) {{\n",
       "        var display = window.getComputedStyle(gd).display;\n",
       "        if (!display || display === 'none') {{\n",
       "            console.log([gd, 'removed!']);\n",
       "            Plotly.purge(gd);\n",
       "            observer.disconnect();\n",
       "        }}\n",
       "}});\n",
       "\n",
       "// Listen for the removal of the full notebook cells\n",
       "var notebookContainer = gd.closest('#notebook-container');\n",
       "if (notebookContainer) {{\n",
       "    x.observe(notebookContainer, {childList: true});\n",
       "}}\n",
       "\n",
       "// Listen for the clearing of the current output cell\n",
       "var outputEl = gd.closest('.output');\n",
       "if (outputEl) {{\n",
       "    x.observe(outputEl, {childList: true});\n",
       "}}\n",
       "\n",
       "                        })                };                });            </script>        </div>"
      ]
     },
     "metadata": {},
     "output_type": "display_data"
    }
   ],
   "source": [
    "go.Figure(data=[go.Pie(labels=df.type.value_counts(normalize=True).index, \n",
    "                       values=df.type.value_counts(normalize=True).values, \n",
    "                       hole=.5, title=\"Movies vs TV Shows\")])"
   ]
  },
  {
   "cell_type": "markdown",
   "id": "b7ac8245",
   "metadata": {
    "papermill": {
     "duration": 0.014597,
     "end_time": "2023-01-04T15:21:30.191019",
     "exception": false,
     "start_time": "2023-01-04T15:21:30.176422",
     "status": "completed"
    },
    "tags": []
   },
   "source": [
    "As shown clearly that content on Netflix 69.7% are **Movies** and rest 30.3% are **TV Show**."
   ]
  },
  {
   "cell_type": "code",
   "execution_count": 21,
   "id": "7613eeb4",
   "metadata": {
    "execution": {
     "iopub.execute_input": "2023-01-04T15:21:30.224382Z",
     "iopub.status.busy": "2023-01-04T15:21:30.223586Z",
     "iopub.status.idle": "2023-01-04T15:21:30.455031Z",
     "shell.execute_reply": "2023-01-04T15:21:30.453362Z"
    },
    "papermill": {
     "duration": 0.251999,
     "end_time": "2023-01-04T15:21:30.457868",
     "exception": false,
     "start_time": "2023-01-04T15:21:30.205869",
     "status": "completed"
    },
    "tags": []
   },
   "outputs": [
    {
     "data": {
      "image/png": "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\n",
      "text/plain": [
       "<Figure size 576x432 with 1 Axes>"
      ]
     },
     "metadata": {
      "needs_background": "light"
     },
     "output_type": "display_data"
    }
   ],
   "source": [
    "import matplotlib.pyplot as plt\n",
    "import seaborn as sns\n",
    "fig = plt.figure(figsize=(8,6))\n",
    "sns.countplot(x=\"type\", data=df)\n",
    "plt.show()"
   ]
  },
  {
   "cell_type": "code",
   "execution_count": 22,
   "id": "c5b5ec22",
   "metadata": {
    "execution": {
     "iopub.execute_input": "2023-01-04T15:21:30.490873Z",
     "iopub.status.busy": "2023-01-04T15:21:30.490394Z",
     "iopub.status.idle": "2023-01-04T15:21:30.506196Z",
     "shell.execute_reply": "2023-01-04T15:21:30.504913Z"
    },
    "papermill": {
     "duration": 0.035424,
     "end_time": "2023-01-04T15:21:30.508545",
     "exception": false,
     "start_time": "2023-01-04T15:21:30.473121",
     "status": "completed"
    },
    "tags": []
   },
   "outputs": [
    {
     "data": {
      "text/html": [
       "<div>\n",
       "<style scoped>\n",
       "    .dataframe tbody tr th:only-of-type {\n",
       "        vertical-align: middle;\n",
       "    }\n",
       "\n",
       "    .dataframe tbody tr th {\n",
       "        vertical-align: top;\n",
       "    }\n",
       "\n",
       "    .dataframe thead th {\n",
       "        text-align: right;\n",
       "    }\n",
       "</style>\n",
       "<table border=\"1\" class=\"dataframe\">\n",
       "  <thead>\n",
       "    <tr style=\"text-align: right;\">\n",
       "      <th></th>\n",
       "      <th>title</th>\n",
       "      <th>director</th>\n",
       "      <th>country</th>\n",
       "      <th>release_year</th>\n",
       "      <th>duration</th>\n",
       "    </tr>\n",
       "  </thead>\n",
       "  <tbody>\n",
       "    <tr>\n",
       "      <th>0</th>\n",
       "      <td>Dick Johnson Is Dead</td>\n",
       "      <td>Kirsten Johnson</td>\n",
       "      <td>United States</td>\n",
       "      <td>2020</td>\n",
       "      <td>90 min</td>\n",
       "    </tr>\n",
       "    <tr>\n",
       "      <th>6</th>\n",
       "      <td>My Little Pony: A New Generation</td>\n",
       "      <td>Robert Cullen, José Luis Ucha</td>\n",
       "      <td>Unknown</td>\n",
       "      <td>2021</td>\n",
       "      <td>91 min</td>\n",
       "    </tr>\n",
       "    <tr>\n",
       "      <th>7</th>\n",
       "      <td>Sankofa</td>\n",
       "      <td>Haile Gerima</td>\n",
       "      <td>United States, Ghana, Burkina Faso, United Kin...</td>\n",
       "      <td>1993</td>\n",
       "      <td>125 min</td>\n",
       "    </tr>\n",
       "    <tr>\n",
       "      <th>9</th>\n",
       "      <td>The Starling</td>\n",
       "      <td>Theodore Melfi</td>\n",
       "      <td>United States</td>\n",
       "      <td>2021</td>\n",
       "      <td>104 min</td>\n",
       "    </tr>\n",
       "  </tbody>\n",
       "</table>\n",
       "</div>"
      ],
      "text/plain": [
       "                              title                       director  \\\n",
       "0              Dick Johnson Is Dead                Kirsten Johnson   \n",
       "6  My Little Pony: A New Generation  Robert Cullen, José Luis Ucha   \n",
       "7                           Sankofa                   Haile Gerima   \n",
       "9                      The Starling                 Theodore Melfi   \n",
       "\n",
       "                                             country  release_year duration  \n",
       "0                                      United States          2020   90 min  \n",
       "6                                            Unknown          2021   91 min  \n",
       "7  United States, Ghana, Burkina Faso, United Kin...          1993  125 min  \n",
       "9                                      United States          2021  104 min  "
      ]
     },
     "execution_count": 22,
     "metadata": {},
     "output_type": "execute_result"
    }
   ],
   "source": [
    "#Selecting part of the columns from the dataset\n",
    "df_movies_sub_cols = df_movies[['title','director','country','release_year','duration']]\n",
    "df_movies_sub_cols.head(4)"
   ]
  },
  {
   "cell_type": "code",
   "execution_count": 23,
   "id": "b0f8d8c6",
   "metadata": {
    "execution": {
     "iopub.execute_input": "2023-01-04T15:21:30.544010Z",
     "iopub.status.busy": "2023-01-04T15:21:30.543564Z",
     "iopub.status.idle": "2023-01-04T15:21:30.554051Z",
     "shell.execute_reply": "2023-01-04T15:21:30.552577Z"
    },
    "papermill": {
     "duration": 0.032241,
     "end_time": "2023-01-04T15:21:30.556744",
     "exception": false,
     "start_time": "2023-01-04T15:21:30.524503",
     "status": "completed"
    },
    "tags": []
   },
   "outputs": [
    {
     "data": {
      "text/plain": [
       "1 Season     1791\n",
       "2 Seasons     421\n",
       "3 Seasons     198\n",
       "90 min        152\n",
       "94 min        146\n",
       "Name: duration, dtype: int64"
      ]
     },
     "execution_count": 23,
     "metadata": {},
     "output_type": "execute_result"
    }
   ],
   "source": [
    "df['duration'].value_counts()[:5]"
   ]
  },
  {
   "cell_type": "markdown",
   "id": "3e66f34b",
   "metadata": {
    "papermill": {
     "duration": 0.015892,
     "end_time": "2023-01-04T15:21:30.589073",
     "exception": false,
     "start_time": "2023-01-04T15:21:30.573181",
     "status": "completed"
    },
    "tags": []
   },
   "source": [
    "# Top Five Netflix Shows"
   ]
  },
  {
   "cell_type": "code",
   "execution_count": 24,
   "id": "c1f2277d",
   "metadata": {
    "execution": {
     "iopub.execute_input": "2023-01-04T15:21:30.623772Z",
     "iopub.status.busy": "2023-01-04T15:21:30.622356Z",
     "iopub.status.idle": "2023-01-04T15:21:30.840200Z",
     "shell.execute_reply": "2023-01-04T15:21:30.838708Z"
    },
    "papermill": {
     "duration": 0.238037,
     "end_time": "2023-01-04T15:21:30.842895",
     "exception": false,
     "start_time": "2023-01-04T15:21:30.604858",
     "status": "completed"
    },
    "tags": []
   },
   "outputs": [
    {
     "data": {
      "image/png": "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\n",
      "text/plain": [
       "<Figure size 576x432 with 1 Axes>"
      ]
     },
     "metadata": {
      "needs_background": "light"
     },
     "output_type": "display_data"
    }
   ],
   "source": [
    "top_five_most_show = df['duration'].value_counts()[:5]\n",
    "fig = plt.figure(figsize=(8,6))\n",
    "plt.xticks(rotation=45)\n",
    "sns.barplot( x = top_five_most_show.index, y = top_five_most_show, orient='v');\n",
    "plt.show()"
   ]
  },
  {
   "cell_type": "markdown",
   "id": "e13965a3",
   "metadata": {
    "papermill": {
     "duration": 0.016521,
     "end_time": "2023-01-04T15:21:30.876068",
     "exception": false,
     "start_time": "2023-01-04T15:21:30.859547",
     "status": "completed"
    },
    "tags": []
   },
   "source": [
    "# Top Ten Countries watching Netflix"
   ]
  },
  {
   "cell_type": "code",
   "execution_count": 25,
   "id": "03c41fe7",
   "metadata": {
    "execution": {
     "iopub.execute_input": "2023-01-04T15:21:30.910612Z",
     "iopub.status.busy": "2023-01-04T15:21:30.909921Z",
     "iopub.status.idle": "2023-01-04T15:21:30.919922Z",
     "shell.execute_reply": "2023-01-04T15:21:30.918722Z"
    },
    "papermill": {
     "duration": 0.030546,
     "end_time": "2023-01-04T15:21:30.922585",
     "exception": false,
     "start_time": "2023-01-04T15:21:30.892039",
     "status": "completed"
    },
    "tags": []
   },
   "outputs": [
    {
     "data": {
      "text/plain": [
       "United States     2809\n",
       "India              972\n",
       "Unknown            829\n",
       "United Kingdom     418\n",
       "Japan              243\n",
       "South Korea        199\n",
       "Canada             181\n",
       "Spain              145\n",
       "France             124\n",
       "Mexico             110\n",
       "Name: country, dtype: int64"
      ]
     },
     "execution_count": 25,
     "metadata": {},
     "output_type": "execute_result"
    }
   ],
   "source": [
    "#Top ten Countries Wataching Netflix\n",
    "top_ten_countries = df['country'].value_counts()[:10]\n",
    "top_ten_countries"
   ]
  },
  {
   "cell_type": "code",
   "execution_count": 26,
   "id": "729d9941",
   "metadata": {
    "execution": {
     "iopub.execute_input": "2023-01-04T15:21:30.957133Z",
     "iopub.status.busy": "2023-01-04T15:21:30.956450Z",
     "iopub.status.idle": "2023-01-04T15:21:31.255032Z",
     "shell.execute_reply": "2023-01-04T15:21:31.253605Z"
    },
    "papermill": {
     "duration": 0.318724,
     "end_time": "2023-01-04T15:21:31.257611",
     "exception": false,
     "start_time": "2023-01-04T15:21:30.938887",
     "status": "completed"
    },
    "tags": []
   },
   "outputs": [
    {
     "data": {
      "image/png": "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\n",
      "text/plain": [
       "<Figure size 864x576 with 1 Axes>"
      ]
     },
     "metadata": {},
     "output_type": "display_data"
    }
   ],
   "source": [
    "sns.set_style(\"darkgrid\")\n",
    "fig = plt.figure(figsize=(12,8))\n",
    "plt.xticks(rotation=70)\n",
    "sns.barplot(x= top_ten_countries.index, y=top_ten_countries, orient='v')\n",
    "\n",
    "plt.show()"
   ]
  },
  {
   "cell_type": "markdown",
   "id": "df92c888",
   "metadata": {
    "papermill": {
     "duration": 0.01891,
     "end_time": "2023-01-04T15:21:31.294164",
     "exception": false,
     "start_time": "2023-01-04T15:21:31.275254",
     "status": "completed"
    },
    "tags": []
   },
   "source": [
    "As above shown that the top countries so **United State** is leading the market than **India** and **United Kingdom**"
   ]
  },
  {
   "cell_type": "markdown",
   "id": "c03e6b80",
   "metadata": {
    "papermill": {
     "duration": 0.016895,
     "end_time": "2023-01-04T15:21:31.328088",
     "exception": false,
     "start_time": "2023-01-04T15:21:31.311193",
     "status": "completed"
    },
    "tags": []
   },
   "source": [
    "# Top ten Directors "
   ]
  },
  {
   "cell_type": "code",
   "execution_count": 27,
   "id": "de3e95d4",
   "metadata": {
    "execution": {
     "iopub.execute_input": "2023-01-04T15:21:31.365478Z",
     "iopub.status.busy": "2023-01-04T15:21:31.365003Z",
     "iopub.status.idle": "2023-01-04T15:21:31.379938Z",
     "shell.execute_reply": "2023-01-04T15:21:31.378760Z"
    },
    "papermill": {
     "duration": 0.036021,
     "end_time": "2023-01-04T15:21:31.382357",
     "exception": false,
     "start_time": "2023-01-04T15:21:31.346336",
     "status": "completed"
    },
    "tags": []
   },
   "outputs": [
    {
     "data": {
      "text/plain": [
       "No Director               2621\n",
       "Rajiv Chilaka               19\n",
       "Raúl Campos, Jan Suter      18\n",
       "Suhas Kadav                 16\n",
       "Marcus Raboy                16\n",
       "Jay Karas                   14\n",
       "Cathy Garcia-Molina         13\n",
       "Martin Scorsese             12\n",
       "Jay Chapman                 12\n",
       "Youssef Chahine             12\n",
       "Name: director, dtype: int64"
      ]
     },
     "execution_count": 27,
     "metadata": {},
     "output_type": "execute_result"
    }
   ],
   "source": [
    "#top ten directors\n",
    "top_ten_directors = df['director'].value_counts()[:10]\n",
    "top_ten_directors"
   ]
  },
  {
   "cell_type": "code",
   "execution_count": 28,
   "id": "0df14b61",
   "metadata": {
    "execution": {
     "iopub.execute_input": "2023-01-04T15:21:31.419378Z",
     "iopub.status.busy": "2023-01-04T15:21:31.418657Z",
     "iopub.status.idle": "2023-01-04T15:21:31.724181Z",
     "shell.execute_reply": "2023-01-04T15:21:31.722929Z"
    },
    "papermill": {
     "duration": 0.326996,
     "end_time": "2023-01-04T15:21:31.726608",
     "exception": false,
     "start_time": "2023-01-04T15:21:31.399612",
     "status": "completed"
    },
    "tags": []
   },
   "outputs": [
    {
     "data": {
      "image/png": "iVBORw0KGgoAAAANSUhEUgAAAtoAAAI5CAYAAACfPp0fAAAAOXRFWHRTb2Z0d2FyZQBNYXRwbG90bGliIHZlcnNpb24zLjUuMywgaHR0cHM6Ly9tYXRwbG90bGliLm9yZy/NK7nSAAAACXBIWXMAAAsTAAALEwEAmpwYAAB1z0lEQVR4nO3dd3hUdd7+8fekEhIgBFIooQUC0juEFqVK70WwgCArClhRhAdWUbDBAoKoKE1FqlKk9957DSUECDGkkgTSy/z+4Dej7KqLLieTTO7XdT3Xs55JyOfMzDnnPt/zLSaz2WxGREREREQeKQdbFyAiIiIiYo8UtEVEREREDKCgLSIiIiJiAAVtEREREREDKGiLiIiIiBhAQVtERERExABOti7ACDk5OWRna9ZCERERETGWs7PjH75ml0E7O9tMQkKKrcsQERERETvn7V3kD19T1xEREREREQMoaIuIiIiIGEBBW0RERETEAAraIiIiIiIGUNAWERERETGAgraIiIiIiAEUtEVEREREDKCgLSIiIiJiAAVtEREREREDKGiLiIiIiBhAQVtERERExAAK2iIiIiIiBlDQFhERERExgIK2iIiIiIgBFLRFRERERAygoC0iIiIiYgAFbRERERERAyhoi4iIiIgYwMnWBeQ2j6KFcHN1tnUZj1xqeib3ktJsXYaIiIiI/H8FLmi7uTrTYMy3ti7jkTv+6bPcQ0FbREREJK9Q1xEREREREQMoaIuIiIiIGEBBW0RERETEAAraIiIiIiIGUNAWERERETGAgraIiIiIiAEUtEVEREREDKCgLSIiIiJiAAVtEREREREDKGiLiIiIiBhAQVtERERExAAK2iIiIiIiBlDQFhERERExgIK2iIiIiIgBDAvakZGRPPPMM3Tq1InOnTuzaNEiAGbNmkXLli3p3r073bt3Z/fu3dbf+eqrr2jXrh0dOnRg79691u179uyhQ4cOtGvXjrlz5xpVsoiIiIjII+Nk1D/s6OjI2LFjqVGjBvfu3aN37940b94cgMGDBzN06NAHfv7q1ausX7+e9evXExUVxZAhQ9i8eTMAkyZNYsGCBfj6+tKnTx9at25N5cqVjSpdREREROR/ZljQ9vHxwcfHBwAPDw8qVapEVFTUH/789u3b6dy5My4uLvj7+1O+fHnOnDkDQPny5fH39wegc+fObN++XUFbRERERPI0w4L2b926dYuLFy9Sp04dTpw4weLFi1m9ejU1a9Zk7NixFCtWjKioKOrUqWP9HV9fX2sw9/Pze2C7JYD/EUdHE56ehY3ZmTysIO6ziIiISF5leNBOTk5m9OjRjBs3Dg8PD5566ileeuklTCYTM2fO5KOPPuLDDz98pH8zO9tMQkLK777m7V3kkf6tvOSP9llEREREjPFn2dLQWUcyMzMZPXo0Xbt2pX379gCULFkSR0dHHBwc6Nu3L2fPngXut1Tfvn3b+rtRUVH4+vr+4XYRERERkbzMsKBtNpsZP348lSpVYsiQIdbt0dHR1v+9bds2qlSpAkDr1q1Zv349GRkZhIeHc/36dWrXrk2tWrW4fv064eHhZGRksH79elq3bm1U2SIiIiIij4RhXUeOHz/OmjVrCAwMpHv37gC8/vrrrFu3jpCQEADKlCnDpEmTAKhSpQodO3akU6dOODo6MnHiRBwdHQGYOHEiw4YNIzs7m969e1vDuYiIiIhIXmUym81mWxfxqGVmZv9pH+0GY77N5YqMd/zTZ4mJuWvrMkREREQKFJv10RYRERERKagUtEVEREREDKCgLSIiIiJiAAVtEREREREDKGiLiIiIiBhAQVtERERExAAK2iIiIiIiBlDQFhERERExgIK2iIiIiIgBFLRFRERERAygoC0iIiIiYgAFbRERERERAyhoi4iIiIgYQEFbRERERMQACtoiIiIiIgZQ0BYRERERMYCCtoiIiIiIARS0RUREREQMoKAtIiIiImIABW0REREREQMoaIuIiIiIGEBBW0RERETEAAraIiIiIiIGUNAWERERETGAgraIiIiIiAEUtEVEREREDKCgLSIiIiJiAAVtEREREREDKGiLiIiIiBhAQVtERERExAAK2iIiIiIiBlDQFhERERExgIK2iIiIiIgBFLRFRERERAygoC0iIiIiYgAFbRERERERAyhoi4iIiIgYQEFbRERERMQACtoiIiIiIgZQ0BYRERERMYCCtoiIiIiIARS0RUREREQMoKAtIiIiImIABW0REREREQMoaIuIiIiIGEBBW0RERETEAAraIiIiIiIGUNAWERERETGAgraIiIiIiAEUtEVEREREDKCgLSIiIiJiAAVtEREREREDKGiLiIiIiBhAQVtERERExAAK2iIiIiIiBlDQFhERERExgIK2iIiIiIgBFLRFRERERAygoC0iIiIiYgAFbRERERERAyhoi4iIiIgYQEFbRERERMQACtoiIiIiIgZQ0BYRERERMYCCtoiIiIiIARS0RUREREQMoKAtIiIiImIABW0REREREQMoaIuIiIiIGEBBW0RERETEAIYF7cjISJ555hk6depE586dWbRoEQAJCQkMGTKE9u3bM2TIEBITEwEwm8188MEHtGvXjq5du3L+/Hnrv7Vq1Srat29P+/btWbVqlVEli4iIiIg8MoYFbUdHR8aOHcuGDRtYtmwZP/zwA1evXmXu3LkEBQWxZcsWgoKCmDt3LgB79uzh+vXrbNmyhffff593330XuB/MZ8+ezfLly1mxYgWzZ8+2hnMRERERkbzKsKDt4+NDjRo1APDw8KBSpUpERUWxfft2evToAUCPHj3Ytm0bgHW7yWSibt26JCUlER0dzb59+2jevDmenp4UK1aM5s2bs3fvXqPKFhERERF5JJxy44/cunWLixcvUqdOHeLi4vDx8QHA29ubuLg4AKKiovDz87P+jp+fH1FRUf+x3dfXl6ioqD/9e46OJjw9CxuwJ3lbQdxnERERkbzK8KCdnJzM6NGjGTduHB4eHg+8ZjKZMJlMj/xvZmebSUhI+d3XvL2LPPK/l1f80T6LiIiIiDH+LFsaOutIZmYmo0ePpmvXrrRv3x6AEiVKEB0dDUB0dDReXl7A/Zbq27dvW3/39u3b+Pr6/sf2qKgofH19jSxbREREROR/ZljQNpvNjB8/nkqVKjFkyBDr9tatW7N69WoAVq9eTZs2bR7YbjabOXXqFEWKFMHHx4cWLVqwb98+EhMTSUxMZN++fbRo0cKoskVEREREHgnDuo4cP36cNWvWEBgYSPfu3QF4/fXXGT58OK+++iorV66kdOnSzJgxA4Dg4GB2795Nu3btcHNzY8qUKQB4enry0ksv0adPHwBefvllPD09jSpbREREROSRMJnNZrOti3jUMjOz/7SPdoMx3+ZyRcY7/umzxMTctXUZIiIiIgWKzfpoi4iIiIgUVAraIiIiIiIGUNAWERERETGAgraIiIiIiAEUtEVEREREDKCgLSIiIiJiAAVtEREREREDKGiLiIiIiBhAQVtERERExAAK2iIiIiIiBlDQFhERERExgIK2iIiIiIgBFLRFRERERAygoC0iIiIiYgAFbRERERERAyhoi4iIiIgYQEFbRERERMQACtoiIiIiIgZQ0BYRERERMYCCtoiIiIiIARS0RUREREQMoKAtIiIiImIABW0REREREQMoaIuIiIiIGEBBW0RERETEAAraIiIiIiIGUNAWERERETGAgraIiIiIiAEUtEVEREREDKCgLSIiIiJiAAVtEREREREDKGiLiIiIiBhAQVtERERExAAK2iIiIiIiBlDQFhERERExgIK2iIiIiIgBFLRFRERERAygoC0iIiIiYgAFbRERERERAyhoi4iIiIgYQEFbRERERMQACtoiIiIiIgZQ0BYRERERMYCCtoiIiIiIARS0RUREREQMoKAtIiIiImIABW0REREREQMoaIuIiIiIGEBBW0RERETEAAraIiIiIiIGUNAWERERETGAgraIiIiIiAEUtEVEREREDKCgLSIiIiJiAAVtEREREREDKGiLiIiIiBhAQVtERERExAAK2iIiIiIiBlDQFhERERExgIK2iIiIiIgBFLRFRERERAygoC0iIiIiYgAFbRERERERAyhoi4iIiIgYQEFbRERERMQACtoiIiIiIgZQ0BYRERERMYCCtoiIiIiIARS0RUREREQMoKAtIiIiImIAw4L2O++8Q1BQEF26dLFumzVrFi1btqR79+50796d3bt3W1/76quvaNeuHR06dGDv3r3W7Xv27KFDhw60a9eOuXPnGlWuiIiIiMgj5WTUP9yrVy+efvpp3n777Qe2Dx48mKFDhz6w7erVq6xfv57169cTFRXFkCFD2Lx5MwCTJk1iwYIF+Pr60qdPH1q3bk3lypWNKltERERE5JEwLGg3atSIW7duPdTPbt++nc6dO+Pi4oK/vz/ly5fnzJkzAJQvXx5/f38AOnfuzPbt2xW0RURERCTPMyxo/5HFixezevVqatasydixYylWrBhRUVHUqVPH+jO+vr5ERUUB4Ofn98B2SwD/M46OJjw9Cz/64vO4grjPIiIiInlVrgbtp556ipdeegmTycTMmTP56KOP+PDDDx/538nONpOQkPK7r3l7F3nkfy+v+KN9FhERERFj/Fm2zNVZR0qWLImjoyMODg707duXs2fPAvdbqm/fvm39uaioKHx9ff9wu4iIiIhIXvdfg3Z2djZvvPHGI/lj0dHR1v+9bds2qlSpAkDr1q1Zv349GRkZhIeHc/36dWrXrk2tWrW4fv064eHhZGRksH79elq3bv1IahERERERMdJ/7Tri6OjIL7/8QkZGBi4uLg/9D7/++uscOXKEO3fu0KpVK0aNGsWRI0cICQkBoEyZMkyaNAmAKlWq0LFjRzp16oSjoyMTJ07E0dERgIkTJzJs2DCys7Pp3bu3NZyLiIiIiORlJrPZbP5vP/TWW28RGhpK69atKVz41wF3Q4YMMbS4vyszM/tP+2g3GPNtLldkvOOfPktMzF1blyEiIiJSoPxZH+2HGgxZrlw5ypUrh9lsJjk5+ZEVJiIiIiJirx4qaI8cORLAGrLd3d2Nq0hERERExA48VNC+fPkyb731FomJiQAUL16cjz/+WP2lRURERET+wEMF7YkTJzJ27FiaNm0KwOHDh5kwYQJLly41tDgRERERkfzqoebRTklJsYZsgCZNmpCSosVRRERERET+yEO1aPv7+/P555/TvXt3ANauXYu/v7+hhYmIiIiI5GcP1aI9ZcoU7ty5w6hRoxg9ejR37twxZOl0ERERERF78VAt2gcOHOD//u//Hti2ceNGOnbsaEhRIiIiIiL53UO1aM+dO/ehtomIiIiIyH1/2qK9e/du9uzZQ1RUFB988IF1+71796xLpIuIiIiIyH/606Dt6+tLzZo12bFjBzVq1LBud3d355133jG8OBERERGR/OpPg3a1atWoVq0a7dq1w83NzdqKnZ2dTUZGRq4UKCIiIiKSHz1UH+3nn3+etLQ063+npaUxZMgQw4oSEREREcnvHipop6en4+7ubv1vd3d3UlNTDStKRERERCS/e6ig7ebmxvnz563/fe7cOQoVKmRYUSIiIiIi+d1DzaM9btw4XnnlFXx8fDCbzcTGxjJ9+nSjaxMRERERybceKmjXrl2bjRs3EhYWBkDFihVxdnY2tDARERERkfzsobqOpKam8vXXX/Ptt98SGBhIREQEO3fuNLo2EREREZF866GC9jvvvIOzszOnTp0C7s+vPWPGDAPLEhERERHJ3x4qaN+8eZMXXngBJ6f7PU3c3Nwwm82GFiYiIiIikp89VNB2cXEhLS0Nk8kE3A/eLi4uhhYmIiIiIpKfPdRgyFGjRjFs2DAiIyN54403OHnyJB9++KHRtYmIiIiI5Fv/NWjn5OSQmJjIrFmzOH36NGazmfHjx+Pl5ZUb9YmIiIiI5Ev/NWg7ODjwzTff0KlTJx5//PFcKElEREREJP97qD7azZo1Y968eURGRpKQkGD9PxERERER+X0P1Ud7w4YNACxevNi6zWQysX37dmOqEhERERHJ5x4qaO/YscPoOkRERERE7MqfBu2DBw8SFBTEli1bfvf19u3bG1KUiIiIiEh+96dB+9ixYwQFBf3hcusK2iIiIiIiv+9Pg7a7uzsLFiygSpUqmEwm62qQloVrRERERETk9/1p0E5JSQEgLCyMs2fP0qZNG8xmMzt37qRWrVq5UqCIiIiISH70p0F75MiRAAwaNIiffvoJDw8P6/Z//OMfxlcnIiIiIpJPPdQ82rGxsbi4uFj/28XFhdjYWMOKEhERERHJ7x5qer8ePXrQp08f2rVrB8C2bdvo1auXoYWJiIiIiORnDxW0R4wYQatWrTh27BgAH374IdWrVze0MBERERGR/OyhgjZAjRo1qFGjhpG1iIiIiIjYjYfqoy0iIiIiIn+NgraIiIiIiAEUtEVEREREDKCgLSIiIiJiAAVtEREREREDKGiLiIiIiBhAQVtERERExAAK2iIiIiIiBlDQFhERERExgIK2iIiIiIgBFLRFRERERAygoC0iIiIiYgAFbRERERERAyhoi4iIiIgYQEFbRERERMQACtoiIiIiIgZQ0BYRERERMYCCtoiIiIiIARS0RUREREQMoKAtIiIiImIABW0REREREQMoaIuIiIiIGEBBW0RERETEAAraIiIiIiIGUNAWERERETGAgraIiIiIiAEUtEVEREREDKCgLSIiIiJiAAVtEREREREDKGiLiIiIiBhAQVtERERExAAK2iIiIiIiBlDQFhERERExgIK2iIiIiIgBDAva77zzDkFBQXTp0sW6LSEhgSFDhtC+fXuGDBlCYmIiAGazmQ8++IB27drRtWtXzp8/b/2dVatW0b59e9q3b8+qVauMKldERERE5JEyLGj36tWLb7755oFtc+fOJSgoiC1bthAUFMTcuXMB2LNnD9evX2fLli28//77vPvuu8D9YD579myWL1/OihUrmD17tjWci4iIiIjkZYYF7UaNGlGsWLEHtm3fvp0ePXoA0KNHD7Zt2/bAdpPJRN26dUlKSiI6Opp9+/bRvHlzPD09KVasGM2bN2fv3r1GlSwiIiIi8sg45eYfi4uLw8fHBwBvb2/i4uIAiIqKws/Pz/pzfn5+REVF/cd2X19foqKi/uvfcXQ04elZ+BFXn/cVxH0WERERyatyNWj/lslkwmQyGfJvZ2ebSUhI+d3XvL2LGPI384I/2mcRERERMcafZctcnXWkRIkSREdHAxAdHY2Xlxdwv6X69u3b1p+7ffs2vr6+/7E9KioKX1/f3CxZRERERORvydWg3bp1a1avXg3A6tWradOmzQPbzWYzp06dokiRIvj4+NCiRQv27dtHYmIiiYmJ7Nu3jxYtWuRmySIiIiIif4thXUdef/11jhw5wp07d2jVqhWjRo1i+PDhvPrqq6xcuZLSpUszY8YMAIKDg9m9ezft2rXDzc2NKVOmAODp6clLL71Enz59AHj55Zfx9PQ0qmQRERERkUfGZDabzbYu4lHLzMz+0z7aDcZ8m8sVGe/4p88SE3PX1mWIiIiIFCh5po+2iIiIiEhBoaAtIiIiImIABW0REREREQMoaIuIiIiIGEBBW0RERETEAAraIiIiIiIGUNAWERERETGAgraIiIiIiAEUtEVEREREDKCgLSIiIiJiAAVtEREREREDKGiLiIiIiBhAQVtERERExAAK2iIiIiIiBlDQFhERERExgIK2iIiIiIgBFLRFRERERAygoC0iIiIiYgAFbRERERERAyhoi4iIiIgYQEFbRERERMQACtoiIiIiIgZQ0BYRERERMYCCtoiIiIiIARS0RUREREQMoKAtIiIiImIABW0REREREQMoaIuIiIiIGEBBW0RERETEAAraIiIiIiIGUNAWERERETGAgraIiIiIiAEUtEVEREREDKCgLSIiIiJiAAVtEREREREDKGiLiIiIiBhAQVtERERExAAK2iIiIiIiBlDQFhERERExgIK2iIiIiIgBFLRFRERERAygoC0iIiIiYgAFbRERERERAyhoi4iIiIgYQEFbRERERMQACtoiIiIiIgZQ0BYRERERMYCCtoiIiIiIARS0RUREREQMoKAtIiIiImIABW0REREREQMoaIuIiIiIGEBBW0RERETEAAraIiIiIiIGUNAWERERETGAgraIiIiIiAEUtEVEREREDKCgLSIiIiJiAAVtEREREREDKGiLiIiIiBhAQVtERERExAAK2iIiIiIiBlDQFhERERExgIK2iIiIiIgBFLRFRERERAygoC0iIiIiYgAFbRERERERAyhoi4iIiIgYQEFbRERERMQACtoiIiIiIgZwssUfbd26Ne7u7jg4OODo6MhPP/1EQkICr732GhEREZQpU4YZM2ZQrFgxzGYzkydPZvfu3RQqVIiPPvqIGjVq2KJsEREREZGHZrMW7UWLFrFmzRp++uknAObOnUtQUBBbtmwhKCiIuXPnArBnzx6uX7/Oli1beP/993n33XdtVbKIiIiIyEPLM11Htm/fTo8ePQDo0aMH27Zte2C7yWSibt26JCUlER0dbcNKRURERET+O5t0HQEYOnQoJpOJ/v37079/f+Li4vDx8QHA29ubuLg4AKKiovDz87P+np+fH1FRUdaf/T2OjiY8PQsbuwN5UEHcZxEREZG8yiZBe8mSJfj6+hIXF8eQIUOoVKnSA6+bTCZMJtPf/vezs80kJKT87mve3kX+9r+b1/3RPouIiIiIMf4sW9qk64ivry8AJUqUoF27dpw5c4YSJUpYu4RER0fj5eVl/dnbt29bf/f27dvW3xcRERERyatyPWinpKRw79496//ev38/VapUoXXr1qxevRqA1atX06ZNGwDrdrPZzKlTpyhSpMifdhsREREREckLcr3rSFxcHC+//DIA2dnZdOnShVatWlGrVi1effVVVq5cSenSpZkxYwYAwcHB7N69m3bt2uHm5saUKVNyu2QRERERkb/MZDabzbYu4lHLzMz+0z7aDcZ8m8sVGe/4p88SE3PX1mWIiIiIFCh5ro+2iIiIiIi9U9AWERERETGAgraIiIiIiAEUtEVEREREDKCgLSIiIiJiAAVtEREREREDKGiLiIiIiBhAQVtERERExAAK2iIiIiIiBlDQFhERERExgIK2iIiIiIgBFLRFRERERAygoC0iIiIiYgAFbRERERERAyhoi4iIiIgYQEFbRERERMQACtoiIiIiIgZQ0BYRERERMYCCtoiIiIiIARS0RUREREQMoKAtIiIiImIABW0REREREQMoaIuIiIiIGEBBW0RERETEAAraIiIiIiIGUNAWERERETGAgraIiIiIiAEUtEVEREREDKCgLSIiIiJiAAVtEREREREDKGiLiIiIiBhAQVtERERExAAK2iIiIiIiBlDQFhERERExgIK2iIiIiIgBFLRFRERERAygoC0iIiIiYgAFbRERERERAyhoi4iIiIgYQEFbRERERMQACtoiIiIiIgZQ0BYRERERMYCCtoiIiIiIARS0RUREREQMoKAtIiIiImIABW0REREREQMoaIuIiIiIGEBBW0RERETEAAraIiIiIiIGUNAWERERETGAgraIiIiIiAEUtEVEREREDKCgLSIiIiJiAAVtEREREREDKGiLiIiIiBhAQVtERERExAAK2iIiIiIiBlDQFhERERExgIK2iIiIiIgBFLRFRERERAygoC0iIiIiYgAFbRERERERAyhoi4iIiIgYQEFbRERERMQACtoiIiIiIgZQ0BYRERERMYCCtoiIiIiIARS0RUREREQMoKAtIiIiImIABW0REREREQM42bqAh7Vnzx4mT55MTk4Offv2Zfjw4bYuKd/zKuaMo0shW5fxyGVnpBGfmGnrMkRERKSAyxdBOzs7m0mTJrFgwQJ8fX3p06cPrVu3pnLlyrYuLV9zdCnEzUm1bF3GI1du4lngrwVtj2LOuNnhTUdqRhr3/uJNR3EPZ5zc7O+9yEpN4869v/ZeFCvqhotrvjhN/iUZ6VkkJqX+pd8pVsQFl0KuBlVkOxlp6STezfhLv1O8mBtOLvb1vcjKyOJO4l/7TojIf5cvzhRnzpyhfPny+Pv7A9C5c2e2b9+uoC2PjJtLIZrPam7rMh65/aP2c+8v3nQ4uRVid6tggyqyneA9u+EvBm0XVydmv/GzQRXZzshpXf/y77gUcmXy030MqMa2xn+/Ev5i0HZyceLi5B0GVWQbj41v/bd+r1gxV1xcXB5xNbaVkZFBYmL6X/49T09nnJ3tq5EiMzONhIS//oTYw9MNN+d8ETEfWmpmFvcS/vrNqMlsNpsNqOeR2rRpE3v37mXy5MkArF69mjNnzjBx4kQbVyYiIiIi8vs0GFJERERExAD5Imj7+vpy+/Zt639HRUXh6+trw4pERERERP5cvgjatWrV4vr164SHh5ORkcH69etp3frv9ScTEREREckN+aKnupOTExMnTmTYsGFkZ2fTu3dvqlSpYuuyRERERET+UL4YDCkiIiIikt/ki64jIiIiIiL5jYK2iIiIiIgBFLRF8hn19hKR/0bniYJNn//vy8nJyfW/qaCdSywf7tmzZ1m0aJGNq8k7dDJ4eJbv0Oeff87JkydtXI1xLPu5evVqYmJibFyN7VmOkZCQEBtXIvmJyWSydQliQ5bP32w22yRc5kXZ2dk4OPwae3Mrfyho57J169bh4eEB3A8UBT1omkwmMjIyuHHjBmFhYaSlpdm6pDzLwcGBnJwc9u/fT7169YD7Jwp7+w45ODiQnZ3Nzp07mTp1KleuXLF1STZlMpnIyclh3rx5zJ8/n4yM+8uFF4SLZ1ZWFkePHiU9/a8vh13QWL4PkZGRLF68mPnz53Pt2jUbV5V7LOfBjIwMwsLCuHv3LllZWf/xur3Kzs4GIDw8nJ9++onZs2cTFhaGyWR6IFwWJJZj4ubNmyxZsoQ+ffowY8YM6+u5dTNaMN99G7B80e/du8fFixeJjo7GwcGhwLY6WA6Aa9eu8eabbzJjxgymTZvGF198wZYtW7h8+bKNK8xbftuq6eDgwLJly7hz5w4mk8kuv0OOjo7MnDmTatWqMX36dHbu3GnrkmzGbDbj4OBA3759OXr0KIsWLbJus1eW0PDjjz+yaNEiXF1dCQ8PZ82aNezYscPG1eVNlu/Da6+9hoODA7NmzWLIkCH069ePhQsXkpSUZOMKjWU5D06ZMoWJEyfSuXNn7ty58x+v2ytHR0cARo8ezZUrV4iMjOTFF19k4MCBfPHFF6Smptr9zca/s+zvV199hdlspkmTJty7dw+AHTt2cOHChVypw37P1HlQeHg4Dg4OXLlyhe+++44VK1Zw6tQp6wdfkFgOgEWLFtGyZUsee+wxUlNTycjI4F//+he7du2ybYF5jOUi8csvv1CqVCn27NnDkiVLWLt2LefOnSMzM9PGFRrjueeeY8CAASxbtoy1a9fauhybsHz2jRs3ZurUqVy+fJnJkydz69YtwD5bti2hccuWLTz77LPEx8cza9YsVq9ezd69e7l+/bptC8xjLOfTy5cvU6hQIZ566imqVKnCunXrqFatGl9++SUJCQm2LdJAlmNg48aNpKenM3PmTLy9vfH29ubUqVN89NFH1ps3e2T5/G/duoWXlxdvv/02kydPZs2aNTzzzDMcOnSIqKgou7/Z+HeWm4+LFy8yYMAArl69ypNPPgnA+vXruXnzZq7UkS8WrLEHZrMZf39/Jk2axK1bt9izZw+hoaGcOHGCli1b0qlTJ1uXmKssB8CtW7d46623eOuttxg5ciT16tUjIiKCatWqAfdPoPbccvdXtW3blrZt23L69GmOHDnChQsXOHjwIC+99BL+/v62Lu+RiIiIYObMmdSrV49ffvmFwoULU6pUKd566y1q165NhQoVbF1irkpLS+PAgQOEhoZSp04d6tevz+TJk0lOTmbcuHEUKVLE1iU+cpYuZT4+PkRHRzNjxgz69etHjx49eOaZZ4iPj6dChQqYzeYCFx5+j+U9OHPmDI8//jiHDx/Gy8uLIkWKMHDgQAoVKkS5cuVsXKVxLNeI06dP06ZNG5YvX07Lli2B+09NIyMjrdcce2Q5Dk6fPk2JEiU4e/YsVatWpVChQnTs2JGOHTvaukSbSUtLo0OHDmzatAmz2UzDhg1JTk7m8uXLvPfee7lSg4J2LsnMzOT48eMsW7aMhg0b0r59e0qUKMGuXbsK7CqXGRkZPP3005hMJkqUKGF9tHnlyhWqV68OoJDN/cfojo6OXLhwgd27d7Nnzx4mTJjACy+8wO3bt7l69ardhGy4fxPm7e1NcnIygYGBXLhwgWLFijFhwoQCF7IBjhw5wvbt2/H29mbhwoUEBwczatQoLl++zODBg5k6dSoVK1a0dZmPnIuLC/369WP16tU8/vjj9OjRg/DwcBISEqhfvz5g/90B/qo+ffqQnJzMzZs3cXZ2Zt68eezdu5egoCDA/hsuOnXqxP79+9mwYQPffPMN6enpbNiwgf79+9u6NENZPtOQkBDCwsKYM2cOTzzxBPXq1cPPz88ub8YfVqFChQgICGDy5MmkpaXx/fffc+XKFWrVqmUdL2c0rQxpMEtIWrRoEYcOHaJVq1YcPnyYEydO0LNnT1577TVbl5jrLO/Jjh07aN68Oa6urmzbto0xY8ZQvnx56taty7vvvmv3F4W/qk+fPrzzzjuMHz+el156iW7dunHo0CFq1aqFu7u7rct7pNLS0nB1dX0gSBXk1svMzEycnZ2BX48fuN8ftWjRoowcOdKW5Rnm3r17D1wMv/32W7KzsxkyZMgD74Pcl5aWRqFChQDYtm0bx48fx8nJieeff57ixYvb5TH07/v0xRdfsHbtWqpVq0Z2djaenp5MmjTJhhXmrrS0NPbt28e2bduIiIigTJkyTJo0CRcXF1uXZlPp6ens3r2bXbt20aFDB+rWrUuxYsVy5W+rRdtglgvBnj17ePHFF2nUqBFPPfUU0dHRfPrpp4SGhhIQEGDjKnOXo6MjWVlZ/PTTT1SqVIkKFSrQtm1bTp48yc2bN/H29rZ1iXlOaGgoRYsWpUGDBnh4eNC+fXsAZsyYwYcffpjvWzQtN1WXLl1i1apVpKSkkJmZSfny5WnRogU1a9a0u4DwZyzvR0xMDCtXrmTr1q00a9aM6tWrP9DNrFKlSpQtW9aGlT5alv2+fv06a9eu5fTp0zg5OdGgQQP69OnDs88+a511RTfh91luOFavXs22bdu4ceMGAwYMoG/fvrRt2/aBn7XnY+iTTz5h4MCBjBgxgueee44LFy5QokQJu38KZjlmQkJCiI2NJSMjg8DAQNq2bUtMTAznz5/HxcXFLm+y/ojlmNi5cyc7duzA1dUVHx8f6tevz8SJE603o7lFZ6pckJmZSUBAwAPz4Pr4+BAaGkpqaqoNK8t9cXFxpKWl4eTkRMeOHfnuu+8ASElJ4eLFi3z++efWg0AX0ge1aNGCb7/9lvr161OoUCEuXrxIVlZWvg/Z8ODg2NKlS5OZmUlycjLh4eG89957fPnllzauMHdZ3o9Zs2Zx7949xowZQ5kyZVi2bBnjxo2zhs2ePXvSokULW5b6SFn2+/vvv8fd3Z3GjRsDcOLECdq1a8fkyZOtLXMFJTT8N46OjmRmZjJt2jReeOEFhg8fzs8//0zLli3p2bMnERERti7RMJbwGBYWxrFjx/Dx8SE2NpaxY8eyd+9evLy87P574uDgQEZGBu+//z7bt2/n448/5ssvv+TDDz/kwIEDNG3aFChYx4ulgXPevHn4+vpStWpVcnJy2Lx5M5MmTeLAgQO5Wo9atHNBeno6HTt2ZNasWdy6dYs6depw/vx5PDw8qFmzpq3Ly1VLly7FwcGB6tWr4+vrS3p6OlOmTCElJYW4uDi6du1qnTdYQftX5cqV4969e3z33XcEBwezfft2li1bRvfu3QHy/WN0R0dHcnJyCAkJYcqUKQwZMoRXXnmFIkWKMH36dLsKkw/D8lneuHGDKVOmUKZMGYKCgujfvz+vvvoq165do1q1ari6utq40kfLst+HDh1i5cqVvPLKK7zyyiuUK1eOTz75xDrALb9/3x8Vy/tw7tw5WrZsSZ06dahTpw5du3bl7t27LF26FB8fH1uXabj169fToUMHHBwcmDdvHn5+fkRGRrJu3ToGDRpk6/IMY7lOrl27lscee4xhw4Zx9uxZOnTowNSpU0lNTaVr1662LjNXWW6+YmJiCAgIsHarS0xM5Nq1a5w/fz7XexEoyRjI0lo9Y8YMatSowXvvvYeTkxPbt28nMDCQf/7znzauMHdlZGRQqlQpsrOz2bt3L/v37+fs2bMcPnyYtm3b8vnnn1sfiytkY12858KFCyxdupTRo0fzzTffkJWVxZYtWxg+fDh9+/YF7OP9unPnDk899RTx8fG4uLhQq1YtAgICuH79OpUrV7Z1ebkuIyODunXr8q9//YuQkBCSkpJwcHCwPhK3V0lJSbz66qtkZ2eTlZWF2WzGzc2NS5cuWRdqUsi+z/I+HD58mNDQUBYvXkxYWBj37t2jSJEivPDCCzg52W97mqWV9rHHHmPbtm0MGTKEkiVLMm7cOCpVqkRcXJyNKzSW5bx//fp1OnXqxOrVq+nUqRPBwcH07t0bX19f60JnBc2uXbtYsWIFH330EXfu3KFYsWLUq1ePp59+Gl9f31ytxX6PQBuLi4tjx44dnDhxgrNnz+Li4oK/vz9jxowB7s/rWND6Zru4uNCrVy8yMjK4du0aly9fpmnTpmRnZ3P8+HGSkpLo1q2brcvMM0JDQ7ly5QorV66kQYMGANSpU4cZM2ZYw6ilm01+fiy4efNmfHx8qF69uvXGoVatWjRr1oxGjRoRGBiY633q8gIXFxeef/555s2bx9atW0lISOD69esEBwfj7e1td099LPuzbt066tWrh7u7O506deKrr77C09MTDw8PihQpYnf7/XclJiYCWANEVlYWx48fJywsjCpVquDv70/Dhg0LxCC4Nm3aUKRIEa5fv06/fv2Ij49n7dq1fPXVV7YuLVf06tWL0qVLExcXx9KlS6lVqxYbN26020HSf8ZyLezQoQMmk4lt27bx7LPPUrFiRVq1akXv3r0f+LlcqUmzjhgjMTGRS5cuMXbsWLy8vGjcuDHe3t488cQThIeHs2XLFt5//31bl5mrfnuBvHr1Kn5+fnh4eHDlyhV27dpFxYoVadu2bYEatPFnQkJC2LRpE1999RUDBgwgICDA2oXgvffeo1OnTtZH6flVfHw8M2fOxM3NDQ8PD6pXr07FihWpWLEix48fJzk5mTp16uTa6PC85ObNm6SlpREZGcnVq1cpVaoUZcuWpVy5cnh6etpl4LRM+bl8+XLgfuv2xo0b8fPzo1atWnh5ednlfv8d69evx9/fH3d3dxITE6lTpw53797lyJEj7Nu3D8CuZ9uwfA9u3rzJ2bNniY2NpXfv3nh4eFhXEbXnoPnv18nk5GQKFSrEnDlzOHjwII0aNSpws5pt3ryZyMhI+vTpQ0pKirXbVEREBDt37mTjxo1Mnz4917tTKWgb7NixY6SnpxMTE0NoaChxcXGcPHmS559/3tp6VxBYTopXr15l7ty5ODs7ExoaSqVKlejevTv169e3Tl8mv0pISODUqVOYzWaOHj1KamoqJpOJvXv3sm7dOrvoo3vv3j1++OEHdu3aRXJyMk2aNMHHx4emTZvi5+dHyZIlbV1irtu8eTMrV67k5s2btGrVilKlStG5c+dcf+SZWyznh7NnzzJnzhyGDh1KrVq17OL7bZT4+Hi8vLxYsmQJR48epVixYjz22GMEBQXh7+9PYmIixYoVs+sbE7PZzIABA+jTpw+zZ89mwYIF+Pr6kpCQQJkyZWxdXq7417/+RXJyMl5eXpQvX56GDRvi5eVlfZJRUBquLPuZlJTE5s2bef/99wkODqZTp060bt3apucSBW0DWAao7N69mzt37tCjRw+ys7OJjIwkPj4eT09PypQpU6D6GVrek8mTJ+Pv709qaipXrlyhXLlyrFq1iiZNmvDRRx/Zusw8w3LSmD59Op6envTo0YPixYsTGhpKYmIiXl5eVKhQId9fRC37OXjwYIYOHUqxYsW4ceMGK1euJDExkZEjR/7HFGX2LDw8HH9/f4YNG8awYcNo2rQpZ86cYcmSJURFRfHpp5/adf/sBQsWsHnzZvz8/Gjbti3lypXD19fXbm8w/q7Q0FBu375Ns2bNMJvNhIWFcebMGa5cucKdO3dwdnbmrbfeyrUFOXKb5by3fv16Dh06xPDhwxkzZgxLly4lNjaWDz/8kI8++shuG28s582QkBDGjBnD8OHDuX37NjExMeTk5ODu7s7w4cPtbn2FvyI+Pp5169axfv167t69S+XKlZkwYYJNpg9WH20DWO4ely1bZg0Jjo6OlC1bFg8PDzw9PSlo9zeWMHju3DnGjBnDa6+9xsCBA2nevDkxMTH07NkT0GwCFiaTCbPZTNWqVTl06BCjR4+mdOnSdOnShXr16lkvoPk5ZMP9/YyKiuLu3bvWbjC1a9emVatWvPbaa1SrVs3GFeaeiIgI5s2bR/ny5R9YrKd27drUrl2b/v37Ex0dbddBe8iQIXTq1Ik9e/Zw4MAB9u/fj6enJ8OHD6d48eK2Li/PuHz5MitXrmTp0qXUrVuXxx9/nJ49e5KRkcG5c+e4deuW3YZs+PW8l5aWRsuWLdm6dStPPvkkALt37yY1NdVuQzb8mjEiIyPp3bu3dWaRGzducPr0aZKTkwtcyLbcfN27d487d+7g6+vLs88+y7PPPktYWBg//vijzVbIVNA2gOXDjoiIsB4AGRkZuLi48MYbbzBq1Cjq1q1r2yJzmclkIjs7m+HDh5Oeno67u7v1QnD48GFrXzKF7F+ZTCY6dOhAq1atiI6OZvPmzXz44YeUK1fOruaVdnd3JzAwkNGjR/Pss89StWpV4uLiSEhIsKvFWP4bR0dHqlSpQmxsLA4ODkydOpXevXtTsmRJa2h47LHHbFzlo2e5QMbHxxMbG0tMTAxt2rShb9++hISEcPz4cYXsfxMcHEz16tW5cuUKR48e5dNPP8Xd3Z3mzZvTvHlz6xL19q5Dhw6MGDGC48eP89577xEVFcWaNWsYMmSIrUvLFYUKFWLNmjU4OzszaNAgypcvT/ny5a2vF5RuI/DrzdesWbM4cOAAbm5uNGrUiPr161OnTh3efPNNm9WmriMGMZvNTJ48GU9PT/7xj3/g7OzML7/8wsiRI/npp59sXV6uWrhwIcWKFaNZs2bWR8Bbt27l448/pnr16ri4uDB16tR83w3iUbGcHC19MAHr9EzTpk2jYcOGPPHEE3bV+p+SksLChQu5d+8eZ8+exWQy0bVr1wI1jsHi3r17REdHc/z4cUJDQ7l06RKxsbG8+OKLdO7c2a4+99966aWXKF++PEePHqVUqVL4+/vTqFEjmjdvXiBmzvhfXL58mYsXL3Ls2DHCw8OZPXu23bZoW86PsbGxeHp6kpaWxsqVKzl58iTh4eE899xz1vUF7JHlOrl9+3Y+++wznnjiCbZu3Up0dDRNmzZl4MCBBAUF2brMXJWSkmJ9CtizZ0/WrFnD2bNn2b17NyEhIdy9e5f33nvPZquEKmgbKCQkhLlz51qnYSpZsiR+fn4FaiRwRkYGCxcuJDY2lnv37lGqVClq165N8+bNiY2NJTk5mbJly+Lq6qqg/RtRUVF07dqVBg0a0LlzZ1q3bo2bmxvdu3dn2rRpVKlSJV+3Vlhqz87O5saNGxQvXhyz2cytW7dwd3fHzc0NX19fuwyUv+e370daWhpXrlyhevXqODo6cu3aNbZv306fPn0oWbJkvv7c/51lX86cOcP06dOZNm0aTz31FOPGjeOLL77Aw8ODKVOmFIhFVx7Wb5epX7FiBa6urjRu3Njaih0eHk5AQIBdfU9+y7Jf48ePp1+/ftSpU4ebN28C4O/vb5f7/FuW/Z86dSqBgYHWKXEjIiL4+uuvSUhIYMaMGXb7+f+eDRs2sGvXLnx9fYmMjGTq1KnW13Jycjh8+LBNbz4UtB8hyxc7KyuLe/fuceHCBTw9PcnKyuLChQvUrVuXKlWqFJjwAPeDtslkIiIigmvXrhESEkJkZCQmk4mqVatSu3ZtatWqZesy84zw8HDc3d3x8vLizp07bNiwgU2bNhETE8Njjz1GTk4OM2fOtHWZ/zNLq+zs2bOJiIiwLhndokULgoODC1SXEfj1/ZgzZw5JSUlcvHiR7OxsatWqxZNPPkmdOnVsXaKhFi1aRNGiRSlevDg///wz06ZNY82aNVy9epU33njD1uXlORkZGfTu3ZtevXoRHh7OjRs3yMjI4NNPP8XPz8/W5Rnmt0uuv/baa6xevZpz584xZ84c0tPTGT16tN0fK3D/fDFx4kTu3LnD4MGDeeyxx/6j/3FBarg6ffo0ISEhREdHs3XrVsqVK0fbtm2pW7eutRXbljceCtqPkOViOX/+fCIiIrhy5QotWrRg+PDhpKWl4ejoaNcDNH7PlClTePPNNwkLCyMgIAAnJydu3LjB2bNnOXnyJFWrVqVfv362LjNPSE5OZvjw4Xz88cf4+flZV3Qzm80kJiYSFRVFxYoVcXFxsYuTqNlspkuXLqxfv56nn36apk2bsn79eiIiIli0aJF1FcCCpHfv3kybNo1x48bRs2dP9u7dy5kzZxg7dqx1sJe9SEtLIywsjMcee4yQkBA8PT0JCwtj06ZNTJgwgXfeeYeAgABefPFFu/i+PwqW92HTpk1s3LjRetNtuQH38/PjqaeesnGVxlu0aBEXL17kqaee4ueff6Zs2bKULl2abdu28cknn9i6PMNFRUWxatUqbty4gYeHB15eXpQtW5aqVasSGBho6/JsIisri5iYGGJjYzlx4gTh4eGkpaXh5ubGqFGjKFq0qM1q05nrEbK0VK9bt47nn38egKpVqwL3p60KCQmxWW22kJmZSb9+/TCZTMyYMYORI0fy+eefk5qaSpcuXRg7dixdunQBKHCzsPye9evX4+PjQ9myZcnJyWH79u0MHTqUYcOGsX79eqpWrWrtq2oPoWP79u1Uq1aNyMhIMjMzGTlyJHPnzqV9+/bUqFHD1uXlumPHjlG+fHlKly5NcnIyffv2ZdiwYbRt25bg4GBbl/fI7d69m3/9618AVKtWDT8/P2rUqEFUVBQtW7akUKFCDBw4EMjfK58+Spbj3sHBgczMTC5fvkxKSgoODg6UL1+eI0eOAPZ/Pu3bty8lSpTgrbfeomrVqgwePJhz585Rrlw5W5eWK3x9fXnxxRd59913eeKJJ3B0dGT//v0FLmPAr+OXnJycSE9Pp3Tp0jz33HO88sortGnThgoVKtg0ZINmHXnkLP3jypQpQ0ZGhvUCuWbNGrseoPF7nJ2dqVy5MtnZ2UyYMIErV65w5MgRPvvsMwDatm1Lr169AF1I4X7wtIyW37BhAzt27KBKlSoEBwezcuVKGjZsaL1xy8+OHz9OgwYNqFOnDhUrViQmJoZixYpx5swZjh8/jouLS4Ec/Fa6dGmGDBnCjRs3qFatGhkZGdy6dYuwsDDc3Nzsrs9ly5Yt+eqrrzh27BgNGzYkJyeHokWL8uWXXxIeHk5WVpb1AmlP+/13paenWxfdaN++PRcuXOC7776jcePGREREsHfvXkaNGgXY52wTltb8gwcPsnnzZoYOHcqzzz6Lr68vycnJ7Nu3zy661f0Ry2eamJjIsmXLWLt2LZUqVaJnz54MHz6c0NBQ6wq69vj5/xHLzec777xD0aJF2bZtGxUrVqRHjx60bduWQoUK2bhCtWg/cpZBXG3atLHOsLFp0yZKlSpF6dKlbVxd7vptq4qTkxPBwcGMGTOGCRMm8MQTT1hHxVvuSAuyrKwsatasyZo1azh27Bjz5s2jadOmvPLKKwQFBZGYmEh4eDiQv1urwsLC+Pzzz8nOzsbb25uAgABq165Ns2bNWLRoETt37qRjx462LjPXhYeHU7x4cWrVqkWFChUoXLgw3bp1Y8OGDdaZV+ztOClcuDBDhgxh0aJFmM1mHBwcuHHjBosXL2bUqFHcunXL1iXmKf/6178YMGAAixcvJjIykldffZUWLVpw+vRpsrOzef7552natClgH0+8/siJEyeoVq0a/v7+lCxZkoyMDBISEhg7diz+/v62Ls8wlvP+okWLOHfuHJ9//jnNmjVj1qxZvPTSSwQEBFhX0S0oIdtyTjx27BgxMTEMGDAAT09P2rZty7Rp03j88ce5c+eOjatUi/YjlZ2dzYIFCxg6dCiurq7cuHGD9u3b07BhQ4YNG2br8nKV5Y46NDSUb775hrCwMMxmM+3ataNHjx4PTNtmzxeFh+Xk5MTAgQP5+uuvmT9/PpUqVbI+Nk9NTSUqKopWrVoB+fckmpOTQ+nSpSlcuDA7duygXbt21vnl+/XrR7169ShbtqxdL8jy79atW8fGjRspVKgQNWvWZPDgwTg7O/PPf/6TiIgIMjMzrYN57GkQ9caNGylVqhRdunTh9OnT7Nq1iy1btnDt2jU8PDz4v//7Pxo0aGDrMvOUX375hcuXL7N27VpWrFhBqVKl6N27N2+99VaBWG7bcp04evQoWVlZVK9endq1a+Po6EiZMmXsfsl1y/6npKQwcOBA65zZAwYM4NVXX2X37t122cXsz1jek40bN9KrVy/OnTtHzZo1GTBgAGlpaRQqVChPzMGvoP0IWB5pnT17ltu3b+Pl5cXAgQNJSEjAzc2NokWL2u2cpn8kMzMTFxcXlixZgpubG9988w1Hjx7l559/Zt68ebRt25b333/f1mXmGWazmRIlSjB8+HDc3NysF86MjAwWLFhAYGBgvh8E6eDggKurKx07dmTt2rU88cQT1v08ceIEa9eupXTp0rz66qu2LTQXLViwgOeeew4nJye2bt3K559/jq+vL5cvX+batWv07t3bZnO/GikkJITx48fj7e1NREQEK1eu5MMPP2TMmDEPzB1vr6Hx75g1axZr164lJiaGJ554gmvXrvHTTz/x2WefUaZMGT799FO7v84kJyfTu3dvdu3axZw5cyhcuDANGzbk8ccfLxBPjG/evMnJkyeJjIzE29ubkiVLUqxYMUJDQylVqhRg3zdbf6RTp05UqFCBNWvWWIP14cOH88wAcs068gi9//77RERE8PrrrxfYkb9wvwV27ty5tGjRgj179hAcHPzASmV37twhJiaGwMBAu11843/x2xNlVFQUZ8+epWLFigQEBOTroB0REcGlS5cIDAzkvffeo3379jg7O/P111/j5+dHUFAQPXv2LDAt2sePH2fGjBl89913wP3jpl27dgQGBvL444/j6upKw4YN7XpO5CNHjrBx40Y2bNhAhQoV6NOnD926dbP2RZYHzwdJSUl8//337Ny5kxdffJE2bdpw9epVTp06RZ8+fWxcae6Jj48nIiKC69evs2vXLipVqsTLL79s67IMFxsby8qVKzl37hzp6emUKFGClJQUqlSpYu2fX5BZuhAVLVqUmzdvMn/+fAoXLmzrshS0/1eZmZmYzWacnZ359ttv2bx5M3FxcbRs2ZIePXpQs2ZNW5eY6+Lj45k5cyY3b94kLS2NEiVK8PLLL1O2bFkKFy6sYP0nfi9I20vIWrduHXv27KFatWocOnSIo0ePUrduXUaPHl0gp/KbO3cuM2fO5JlnnqFbt27cvn2bVatWMWvWLLu/Ac3KyrJOX2mxatUqvvvuO+7evcvWrVttVFnek5WVRWhoKL6+vty8eRM/Pz8iIiKYPXs2//jHP2jcuLGtS8wVaWlp/Pjjj6xevZrmzZsTEBBg7X5mMpn+Yx5pe3fx4kV27drFoUOHcHd3p379+nTq1KlAtOzDgws3nT59mszMTNq2bYujoyMRERGUK1cuT4RsUND+n23ZsoXAwEBKlCiBu7s7Dg4OXLp0iVWrVrFlyxbKli3Lt99+a+syc9XNmzfx9fXFZDKxf/9+duzYwfXr1ylXrhx16tQhODjYOlBUfl92djZgX/1yU1NTCQkJ4fz584SFhREXF0eFChUIDAykbNmyVKtWrUDNNpKdnc3FixfZvn07Bw8eJCQkhKZNmzJlyhRr9wl793vfc0vfSnu/2XhYK1asYMKECbRv35569eqxf/9+XFxcSE9Pp0WLFjz33HP59inXw7B8D+bOncvly5fp1asX169fZ9++fTg5OfHpp5/a9RMQS6C8evUqO3bsICkpieLFi1O7dm3q1auHg4MDO3bsYO3atbz++ut22dXsj8THx9O3b186duxIXFwc4eHhVKtWjYYNG9KhQ4c800CloP0/2rp1K8HBwXzxxRfcuXOHBg0aULduXevo52vXrlGpUiUbV5l7wsPDmTRpEt27d7fOkQ0QHR3NgQMHWLVqFSNGjLCOji/oLK3V6enpnD17lvj4eNq3b2/rsgx39+5dzp07x4ULF4iOjiY9PZ0333zT7vuY/pHU1FROnjzJpk2bOHfuHI6OjsybN8/m878axdKi/dsnOPZ4c/kobNy4kW+++YaoqCjatWvHkCFD8PT0tNvvxh8ZPXo0gwYNokmTJtZtb775Jn369LHr64nlGHn99depUaMGu3btwt3d3fpEqHv37rRr187GVeau+Ph4vLy82L17N7t372bixIkkJiYSGRnJ/v37uXTpUp5auEhB+xG5ceMGR44c4cSJE2RlZVG+fHmqVKlifZRRUHz22WdkZWXx+uuvYzabycrKsq6GGRERYfcjw/8qS2vNJ598wo0bNwgPDycyMpJmzZoxYMAAgoKCbF3iI/V7rZSWfS4oj8D/m7i4OM6dO2eXMwhYbiy3bduGj48PtWvXtnVJ+cbFixdZsmQJBw8epGTJkrRr14727dtTtmxZW5dmuJycHL799luOHDnCiBEj8Pf3x9PTk169ejFx4kTq1q1r6xINlZ6ezoABA1i1ahWDBg3i7bff5tatW/zwww+MHz+exx57rEA9AerZsyceHh4EBATg7e39QP/8jIwMMjMzcXd3t2GFD1LQ/h8dOXKEmJgYUlNTadKkCf7+/pw5c4bNmzeTnZ3N2LFjbV1irurWrRszZ86kYsWK1jtxywng448/plGjRrRu3drWZeY5/fv3Z86cOZQoUYLIyEiWLFnC/Pnzeeeddxg0aJCtyzNEQbow/JGC+h4sXryYn376iWeeeYbOnTvj5ORknUtbHvR7/dkPHjzIt99+S2hoKBs3biwQ36Hk5GTmz59PSkoKAKGhoXh4eFhXF7VnISEh7N+/ny5duvD222+zcOFCAPr168fSpUsL3HGTkZHBjh07WLVqFSEhIdSpU4devXrRokWL/zhW8gIF7b8pIyOD2bNns3XrVho2bIjJZCI8PJwqVarw5ptv4uLiYu1rWFCkpqYyZcoUgoKC6NSp0wPTc5lMJgYNGsTo0aNp0qSJ3Qzw+19Y3oPw8HA+++wzevbsSd26dR8YwGG5yObn98tSe0xMDI6Ojv/R/zg/z6Tyd/zRZ5mfP+O/Y+fOnezatYv27dvTvHlzW5eT51nmnN+2bRt16tTB29vbus3ej6Gvv/6afv36kZ2dzeHDh0lLS8Pf35/y5cvj7e1t6/IMZTkvpKam4urqyltvvcX58+epVq0azs7OfPLJJwXqhn3Dhg2kpaXRtWtXnJ2diY6OZsWKFezcuZPY2Fh69+6d52ZgUdD+m1asWMGuXbuYPn06AImJidy4cYO1a9cC8H//938FamCXxbZt21i7di0TJkx44AQYHh7Oyy+/bH1/5Fc//vgjP/74IyVKlLA+Cvb19cXPzw+TyZTvw5clBEyaNIknnniCli1bEh4eTmZmZoEav2BheT8+/PBDHn/8cbvrHvRHLIHhzp071rluV6xYwfLly2nVqhWDBg3Cy8urwN1w/FUDBgzg008/tetVEOHX4+To0aN8/PHHrFy50vpaRkYGzs7Odv09sRwH2dnZZGdnk5iYiKurK4ULF2bdunWkp6fz+OOP4+vra/c3WhYZGRn07duXf/3rX/j7+/9Hxrp06RKxsbF57sY977Wx5xPbt2/nhRdesH7Q3t7eeHt7U6hQIaZPn05UVJTdnwh/T6tWrTh+/Dg9e/akfv36dO7cmUOHDhETE0PXrl2Bgvu4/I/07t2bFi1acPDgQQ4fPsz+/fspUqQIQ4YMsYupmhwcHIiPj+fAgQNMnDiRS5cuMXPmTG7cuMHLL79Mp06dbF1irnJwcCAtLY2DBw/yj3/8g/T0dF5//XU8PDwYMWKE3c4aYDKZyMzMZP78+Rw5coSAgAD8/f2Ji4tj3759eHl5MWjQILsOT3/Vv990nD9/nqysLPz9/QtMuNq8ebN1sF9SUhJFixZl//79nDx5ktdff93G1RknJycHR0dHfvrpJ2tDTLVq1QgICKBOnTqULVvWOv6pIHwPANauXUvlypUJCAiwDp42m81kZ2ezYcMGqlatmudCNkDB+HQesaioKI4ePYqDgwNZWVnW7Tk5OdSsWRM3NzcuXbpkwwptx8XFhbfffptly5ZRsWJF1qxZQ6VKlfjHP/7B4MGDgYJzUvgzOTk5wP0Lx40bN7hy5QqtWrXigw8+YOjQoZQpU8aupkA8ceIEgYGBXL16leXLl9O8eXOmTZvG+vXrbV1arrI8QNyxYwfVq1fH09OTWbNmWZeQnj9/vo0rNFZCQgJ169bl008/pVWrVgQHB7N8+XJGjRrFli1b+OKLL6wXULl/c5KUlMSRI0c4duwYVapUYcmSJdbX7JnlOtG0aVPu3LkDYJ1pZf369daVEO2VpTFq7dq1vPLKKzzzzDO4urpy5MgRZs+ezfHjx21cYe47c+YMLVu2BH6dpSgnJwcnJyfc3NxYvHixLcv7Q2rR/huSkpLo2LEjGzdu5Oeff6ZKlSrUr1+fqlWrAvdnIMmLd1W5ISsrC5PJRJkyZXjttdd+92fs/QLxV0yZMgUPDw/Onz9P8eLFKVu2LI0bN6Z///521epfp04dDhw4wNChQxkyZAiDBg1i4cKF+Pj42Lq0XGX57levXp01a9YwYsQIAgMDGTduHFu2bGHbtm2A/fZb9/b2pm7dupQoUYJy5cpZt7do0QJHR0fmzJnDiBEjbFhh3vDbuZM/+ugjypYty5UrVyhdujQ1a9akRo0aNGzY0NZlGiYpKQlnZ2fc3NyoW7cuixcvpm3btjRo0IBy5cpx69Yt3n//fVuXaZhTp07x2Wef0ahRIzw9Pa3dy5o2bUpcXByHDx8ukKtPBwcHs3TpUrp3727tTWBp+d+0adMDUz/mJeqj/TdFRUVx8+ZNwsLCuHHjBomJiZQqVYpr164BMG3aNBtXaFuaE/ePWR4HR0VFMWLECL7//nt69erFG2+8wZIlS8jIyOCf//wnVapUsXWpj1RmZiapqakULVoUs9nMgAED+L//+z9q1apl69JyVWZmJo6OjoSEhHD9+nXatm1LTk4Ozz//PKNHj6Zp06Z2FbQt3/fo6Ghmz57N4cOHKVSoEI8//jhPPvkklStXxsnJiejoaBITEwtkgPh3lu517733HjVr1iQlJYWjR4/SpEkTfvjhB4KDg3nrrbdsXaZhJk2aRLdu3ahevbo1UIWHh7Nr1y6ys7Pp2LGjXT3x+3eRkZEcPnyY69evs2XLFooUKcLTTz9NixYtrOMbCqK0tDTeffddUlJSePbZZ2nYsCFZWVmcPn2ad955h9WrV+eZ1SB/Sy3af5Ovry++vr7UrVuX27dvWwN3QkICw4YNs3V5ucoSCk6dOsWVK1fo27cvjo6O1u4R8iBLq+bhw4fp0KEDN2/epHTp0rRr1w53d3c2b95sFyHb8r0IDQ3l4MGDuLu7ExgYaB3kOWHCBGrWrGnrMnPd/v37+fHHH2nfvj21a9e2rvLXvn1768Ib9hKy4f6NhYuLC8uXL6ds2bK0b9+e2bNnc/PmTXr27MmAAQN49913redU+bWB4vbt27zxxhuMHTuWQYMGERQUxNmzZ62Pz+3phszi4sWLHD9+nIkTJwLwyy+/sHjxYiIiIujTpw8tWrSwcYXGyszM5M6dO1SqVIlmzZrRrl07jh8/zoEDB9i4cSNFihRh1KhRBWL+9N/Kzs6mUKFCjB07lq+++oqxY8eSnp5OnTp1cHBwYOTIkXkyZIOC9v/M2dkZf39//P39SU5O5vHHHy9wgyAtJ/r09HTrrCJ9+/a1uwvAo5Keno6rqysNGzYkOzubO3fu4OPjQ1paGkeOHLH2483vF1FL7ePGjaNt27Z88skn1KxZk6JFixIcHFwgVsD8PX5+frRq1YoLFy6wd+9eihcvTv369Rk4cKCtSzOEpUVy586dTJs2jS+//JLXX3+dxo0bU6JECWsLtgZJ32eZFjYjI4MXXngBk8lEuXLliIuLA+6v3fDGG28A9nVDZrFixQo6duwIwNmzZ/nhhx+IioqiY8eOLFu2jEqVKtnFIPE/snr1ak6cOMGrr76Kj48PPj4+BAYGEhcXx82bNzlx4kSBbNW2nBs8PT15++23efvttzl37hx3796lXr16eXoqZfs7SnNZVlYWmZmZALi7uxe4kP1bTZo0YezYsRw4cICxY8dy69YtW5eU51y9epU5c+awbds2TCYTZcuWpXbt2jg7O9O8eXOuX7/OkCFDbF3m/8zyNOPIkSN4e3vzwgsvULVqVaZOnYqLiwtLly61jpgvaKpVq0a3bt0YOHAgXbt25erVq6xYscI64MueHDt2jA0bNgDwySefUKFCBbKzszlz5gx37tzh/Pnz1v6n9hga/45169Zx9+5d4uPjqVq1Ku7u7jz55JNMnjyZXr160alTJ7y9ve32iaGPj4/1qd+8efPw8PBg3Lhx9O3blyJFirBx40YbV2isdevW0bNnzwee7jg7O+Pq6oqzszPPPfdcnlr1MDdcu3aNpKQk4H5XNEtjVM2aNQkKCsrTIRvUR/tvy87Oxmw2P7AKUUGc//X3WqFSUlKYP38+UVFRvPjii1p2/TeOHz/Ozp07ycjIwNHREV9fX2rUqEGjRo2s86Xa0/zr33zzDV5eXri7u7Nr1y4+/PBDjh07xvr16/nnP/9p6/JyjeU42bJlC4GBgQ9M4bdt2zZOnTrFm2++absCDbJhwwY++OADHBwcCA4O5rnnnsPNzY0VK1YQGxtLZGQkCxYsKJDnzt+Tnp7Ojh076NixI5MmTcLT05NKlSoRFBREiRIlSEpKwt3dHUdHR7t9z0JDQxk/fjzp6emkp6fz1VdfWRuwnn76ad555x1q1Khh4yqNcevWLV588UXWrVtnXfDNZDJhNptJT09nypQpPPfccwQEBNi61Fz14osv8uWXXxIZGYm3tzcODg44ODjkm2NAXUf+AsvFcs+ePZw4cYLt27fj4+PD4MGDadmyZb74wB81S8h+6623KFasGEWLFuX69euULl2ajRs3YjKZmDRpko2rzDsaNGhA3bp1uXLlChcuXODGjRts3LiRHTt2EBAQQN26dalcubKty3xkhg0bRnJyMqGhoURERDBz5kwOHz5Mz549bV1arrIcJ/v27WPMmDGUK1eOPn360KNHD37++WdrcMjv3YX+XadOnejUqROhoaEsXryYwYMH4+DgQIUKFXj55Zetrdn55YJpNFdXV2u3ieDgYK5cucLp06c5deoUJUuW5LHHHiM4OBiw39mbAgIC+Oabb7h9+zYuLi74+/uTnZ3Nzp07SU1NtduQDfc/0xo1ahAREWFtoLLkjuzsbE6ePMm7775r2yJz2dmzZwkLC2PHjh3MnTuXpUuXWl+ztBPn9WNBLdp/Q69evXj22WepX78+O3bsYMOGDbz88svWE2BBcfv2bRITE6latSrHjx8nNDSUYsWKkZ2dTVhYGH5+fjRu3Nh6olT/y/8MFMnJyYSEhHDx4kUiIiJITU1l2LBh+Xqgi2UfLcvHW+zevZsTJ04A8PLLL9tVy/2fsbwflr63cL+ld8mSJURHRxMcHMzIkSOts7Hk9YvGX/HbVjmLY8eOsXz5cvbu3UuDBg2YNGkSXl5eNqwy77CcJ9evX0/btm1xdXXl+vXrXLhwgbNnzxIQEECfPn3s7nvy3yQmJrJlyxacnZ3p0aOHrcsx1MSJEwkLC2PEiBHUrl0bDw8P4P7TwYsXLzJt2rQCcz01m81kZmby888/M2fOHFxdXRkyZAh169bNVxMGKGg/JMuJ7fTp00yePJnly5dbXzt48CBLlizhk08+yfN9hR6lbdu2UapUKTIzMzl//jytW7e2+0UEHpXfu1Deu3ePmTNnkpCQwKeffmqjyv53llbZJUuWsHr1aooXL0737t1p0qQJxYsXL1ABAX4NT9OmTaNBgwY8/vjj1tcKwlLSFr8XDj755BPKly9P//79bVRV3vHbaRBfeukl5s+fb12gxSIjIwMXF5cCF7QtN2yQ91svH4WFCxdy7do1XFxcyMnJISMjg8TERIYNG0adOnXs7snXf5OTk8OIESNo1KgRcXFxXLt2DS8vL2rVqkXPnj1xc3OzdYl/Sl1HHpLl4C5TpgyVK1dm37591mmGUlNTSU1NLVAhG6BNmzaYTCa2bNnC1atXOX/+PEWKFOGxxx6jdu3aVKpUydYl5lm/vVhYTpoeHh40bNjQOhd7fpSZmYmzszMpKSl8/fXXfP755xw4cIAffviBBQsWUL58ecaNG1egRs07OjqSlpbGxo0brYs4ZWRkYDKZuHDhAlWrVs3zF4pHwRKyLUsmOzk54enpSXJyso0ryxss4Xn16tXW2XkswfrChQts3bqVV155BSgYYfO3NxMFJVRargU9e/bk1KlT1rnl09LSGDt2rLV1u6C8HxYODg5Mnz6dwoULk5GRYc0bhw4d4sknn8zz508F7YeQkpLC5cuXqVatGiVLlqRZs2ZMmDCBokWL0qRJE8LCwujWrZuty8xVJ06cIDU1laCgINq3b0/Lli05f/689f/27t3L+PHj9Uj4IVhOmjk5OXTo0MHG1fxv9u3bR0xMDJmZmbRu3ZrHHnuMxx57jKFDhxISEsLWrVsLVMi2OHHiBOXLl8fBwcEanpKTk/nXv/7FokWLbF1erjKZTNYuRU899RSurq42rihvsJwHypUrx40bN7h79y5FihQBYMeOHQ8sOW3PQSsmJobixYs/0O2soLB8rsWKFSM4OPg/nlwUtCcZlqdgu3btYteuXRw7doypU6dSvXp1qlevTpcuXfJ8yAYF7Ydy5swZVq9eTZkyZahUqRItW7akS5cuHDhwgMuXLzN48OAC12XCMrerZRn6Ll260KJFCxo2bEhMTAw3btzAy8urwJ0YHpblfYmPj8fFxQUPDw/MZnO+v4j+8ssvhIWFkZOTw5kzZ5g3bx7NmzenUqVKVKtWjWrVqtm6RJto1qwZ27dvZ/Xq1fTo0YPU1FSWLVtmncqsoPS5/HeWIFnQWc4HCQkJlClThpSUFL766ivKlClDVlYWu3fv5oMPPgDsszXb8v3ft28fCxcu5NSpU7Rs2ZI2bdrQrFmzAtNgYxnXkpWVZZ1Z47fXBHv87P+MZeG7jz76iG+++YadO3cC958Ibtu2jVatWtm4woejPtoPITIykrNnzxIREcGtW7cwmUyULFmSoKAgKleujLu7e4ELlJaD/8qVKxw7doyzZ88SExNDuXLleOKJJ2jUqJFaqh7C/PnzKVy4MAMGDLB1KY9MdHQ0ERERHDt2jIiICFxcXPDz86NUqVK0adOmwA2CjIiIYNGiRTRq1IhvvvkGDw8PvLy8SE9P58UXX6R69er5/gZL/jeWz//jjz+mUqVKdO7cmSVLlnDv3j2ioqLo0aMHjRs3tnWZhrEcK8OHD6dfv340a9aMH3/8kZ07d3L9+nWGDx9uV+fIf2fZ/23btuHj40Pt2rVtXZLN/fY92bNnDy+//DKvvvoqS5Ys4e7duwwZMoTFixfni5yhoP0XxcTEsHnzZjIyMti/fz8AH3zwQYFr0f53lgGRR48e5fz58zg4OPDaa68V6AV8LCytNUePHsXJyYl69epZXzt69Cjff/89zs7OTJ061YZV/u8srTH79+/Hzc2N+vXrk5CQwIkTJzh27Bhubm6MGjXK1mXmGkt4sqxs99prr5GTk8O+ffswm800a9aswC7aI79v+vTptGzZkoYNG5KTk0NqaqrdL05iCVSpqam8/fbbvPrqqw+M77l06RKurq4PzD1vrxYvXsxPP/3EM888Q+fOnXFycsJsNhfom/CTJ09y6dIlLl26RK1atejVqxc//fQTu3bt4rPPPrN1eQ9FXUf+i+PHj3PlyhWKFi3Kpk2bKFGiBCkpKRw9ehQfHx9SU1MLXMi2BAhLgIqJiaF169YEBQVRt25dkpOTWbhwIV9//bXm0ObXQWAffvihdQ7UDRs2cPLkSYYNG8bMmTOJjIwE8nf/S0ufykuXLrFr1y4KFSpE06ZN6dy5M61bt+bu3bs2rjB3WT7Hq1evcuPGDS5dukTVqlXzzeNOyV3nzp3jq6++YtOmTYwbN47g4GC7D9nwa3eI8+fPc+fOHT744AN69epFQEAAlSpVomrVqjauMPcMGjSI0qVLs2vXLry9vWnevHmBelL+e+rVq8f69etZtWoVGRkZ3Lt3j61bt/LSSy/ZurSHphbt/6JOnTqkp6fTqVMnhg0bRkxMDFWrViU1NZWiRYtSokQJW5doE6mpqfTp04cxY8bw7rvvWucArlevHhMnTuTw4cMkJCTQuXNnW5dqU5bWmitXrvDee+/x/fffs3btWlauXEmzZs3IyspixIgRdtU/Nz09nYSEBEJCQti5cyenT5+mbNmyTJ06NV885nuU7t27x4oVKzh48CBFixbFz8+PGjVqUL9+/QeWWJaCzXKDHR0dzbJly6yhokmTJrz66qt2/WTw0KFDNG3alIyMDC5evMixY8eIjIzEycmJwoUL0759e7se22G5Rty5c8c6UHzFihUsX76cVq1aMWjQoAI33slyPJw6dYoiRYoQEBDApUuX2LBhA46OjnTs2DFfzaOdP5vOctG3337LkCFDOHjwIP/85z+JiorCw8ODihUrFsiQnZOTA8CaNWto1qwZZcuWpXLlyqxdu5bq1asTERGByWSiefPm1hXOCjLLiTEuLo7ixYvzxhtvsHv3bt59912aNm3Kvn377CJkW74XcH91O19fX5o3b87IkSNp0KAB9evXL3Ah22w24+HhwZAhQ/jss8/o2bMnnp6e7Nmz54F5+EUcHBxITk7Gx8eHUaNGsWPHDhYsWEBOTg4XL14Efl0Fz57cunWL0NBQ6ww8zs7ODB06lJEjR9K0aVNSU1Px9PS0dZmGMplMZGZmMn/+fPr378+4ceOIjY0lLi6Offv2sXHjRuvPFRSWfZ0zZw7R0dEAJCUl0aBBA0aNGkWVKlXy1fGgriP/RZ06dahTpw5vv/22dTW3Tz/9lHLlyjF69OgCtxqk5XF4SkoKXbt2Zd++fVSsWBGAmjVr4uLiYg2O+bULhBGaNm3KvXv3CAsLo0WLFlSqVInx48fTpk0b4PcX88hPLKPjn3rqKVq0aEG3bt0oX748JUuWJDExkaZNm9q6xFxnMpm4ePEiW7duJTAwkBYtWtC8eXMiIyPJzMwE8ndXIfnf/Xb8xrp16zhx4gRNmjShadOmBAUFMX36dOvP2mPQ8vHxoW/fvsTFxeHo6MiXX34JQJMmTQgODn5gcSd7lpCQQN26denbty8XLlygXLly9O3bl5CQEL7++muSkpIYPnx4vr5GPCxLy31oaCixsbEEBQWxZcsWvvvuO5KSkrhy5QpDhgzJV+dNdR35G1JSUliwYIH1JFFQpaamcuXKFZYuXUrLli2ZOnUq7733Hi1atFCA4NcTRkZGBrdv3+bu3btkZGQQEBBAeno6X3/9NS+++GK+fyyYnJyMyWSicOHCbNu2jU2bNnHq1ClKly5NzZo12b59O2vWrCkwCzpZvvs7d+5k2bJl1KxZk8WLF1sHiHbt2rXA3aDL77Mc9wMHDuSdd97hyy+/JDU1laioKLKyshg/fnyB6NP/448/0qJFC1JTU7l8+TInT57k1KlTDBs2zNoYYe/i4uJ+9yn5wYMHmTNnDt99950NqrKdgwcPsmjRIlq2bMm5c+cYNGgQ3t7evPnmm/nuvVDQlod27do1QkNDCQ8PJzg4mICAAFJSUli+fDlXr16lWbNmdOrUydZl5hmW1qq5c+eyd+9e3NzcqFy5Mr6+vvTp0wdHR0e7CJ8TJ05kwIABBAYGWgdE5uTkcOjQISIjI2ncuLFd9zH9d5ag/corr9CvXz/Onz9v7U719ttvU7NmTT788MN8fXMlj050dDSjRo1i2bJl1hkV7ty5w0svvcQ///lPqlWrZpfflejoaK5fv05MTAwbN25k9uzZwP0ZrO7evcuNGzeoXr263XY5s3ym0dHRzJ49m8OHD1OoUCEef/xxnnzySSpXroyTk5N1dcjAwEBbl5yrzGYzixYtYsOGDYwaNYqWLVvy/vvvU6JEiXw1EBLUR1v+grfeeosNGzYQFRXFmjVryMrKwmw206lTJ/r06fPAtHVyf7aR9PR0fvjhB+bPn8/kyZNp2bIl27Zt4/vvv7eL+aTPnTvH2bNnqV69Ok5OTty6dYvp06fzf//3f2RmZtK7d+8CFbLhfjea9PR0nJycaNSoEYcOHaJu3bpUr16dxo0b89xzzwH22edW/rq0tDQGDhxIREQExYoVIzIyktTUVFxcXKyDAO0tZMP9QdPHjh3j448/JjY2lv379xMfH4+zszOJiYmEhITYbcgGrN3Hli9fTtmyZZkwYQJubm7cvHmTnj17MnnyZEwmE76+vgUmZFvG+ty6dYsTJ04wePBgli9fTsuWLQGs701+oz7a8lA2b95MQEAAH3/8MTdv3uSbb75hxIgRpKenExcXh4eHB7NmzbJ1mXlOWFgYVatWxdnZGW9vb7y9valWrRqvvfYaL7zwgq3L+5/99NNP1pllzpw5w7JlywgNDaV3796sXbuWypUrU6ZMGRtXmXuSkpIoWrQorq6u/N///R9ms5mgoCAOHz5MUlISGzZsYPz48YDGMBR0CQkJeHp6Uq5cOcqVKwfcX0H0rbfeIiMjwzquIb+P3/gj/v7+9O7dm71799K6dWvWrVvHd999R8WKFTl27JhdL1ADWBtadu7cybRp0/jyyy95/fXXady4MSVKlLCGa3v9/H+PpfFhxowZNGrUiAYNGnDq1Cl27txJy5YtmTFjRr6c8lJBWx7KwoULadCgAQDlypWjatWqREREMHr0aBo2bGgNGPIgf39/SpYsyeuvv06XLl0oVaoUR44cwcPD4z+W182PihQpQmpqKnB/lUtfX18++ugjKlSowJEjR9i2bZu1BbcgGDVqFKVLl7YOZnN1daV79+5MmTKF+Ph4xowZg4ODQ4G6eMp/Onr0KD/++CMNGzakT58+ZGdnA/DMM89Qr1493N3drU+C8vP54Y9Yzntnz56lQoUKvPDCC4SHh3Pr1i3Onz9P48aN6dq1q63LNMyxY8eIjo6mU6dOfPLJJ1SoUIHs7GzOnDlDlSpVOH/+vPW8aY+f/x+xLLl+9epVpk6dypkzZ5g1axaBgYHs2bOHWrVq2brEv0V9tOWhzJo1ixUrVgDQrVs3Dh06xPTp0x/oFmCP/QgfhYSEBNauXUtSUhKHDh2iUqVKPPfccwQEBOT7oH3jxg2mTZtGcnIy169fZ9GiRZQtWxaAp556igkTJlC9enUbV5k7oqKi6N27N97e3lStWpW7d+9SvHhxOnfuTNOmTXVsiNXo0aNp3bo1Xbt2xdHRkcWLF/Pjjz/Svn17OnfujL+/v12fTy379u677xIUFESHDh0e2G7vNmzYwAcffICDgwPBwcE899xzuLm5sWLFCmJjY4mMjGTBggUF5v34rWvXrjF58mRq167NxYsXGTBgALVr12bgwIGsWbMmX3YnUtCWv+TkyZP88MMP7NmzBx8fH3r06EH//v3x8PCwdWl5hqW18urVq+zevRtnZ2cyMjLw9/enZcuWODs729XS2zExMSQkJFC4cGFrN5EdO3YwZ84cVq5caePqcldsbCwLFy7ExcWFZs2acfXqVY4ePUp8fDyNGzdmxIgRti5RbCwpKYmnnnqKtWvXWp9qDB06lPr16xMVFUVCQgLjx4+3+wWN0tLSeOutt7h8+TIvvvgizZo1w8fHx9Zl5arQ0FAWL17Mpk2bcHBwoEKFCrz88ssEBQUBBXf6z3379rF//34CAgLo06cPy5cv5+DBgw9Md5mfKGjL37Zp0ybmzp2Lr68vX3zxha3LyXMGDRpEpUqV8PDwoHjx4ty6dcvakm3PLRWxsbHs3LkTNzc3unTpYutycl1oaCjff/89KSkpDB8+HC8vL06dOkWhQoUICgoqsBdPuW/37t0sXbqUL774goyMDDIzM9m8eTO9evUC7p83vvzyS4oUKWLjSo2VkJDAsWPHuHjxIrGxsZjNZry9vWnSpAmNGze2dXmGysnJwWQyPXANOHbsGMuXL2fv3r00aNCASZMm4eXlZcMqc19ycjIHDhygQYMG1n1PTk7mq6++IigoyHoDkt8oaMv/zNKCq36nvz76vHbtGh988AHz588H4Pbt23z77bckJiYyYcIEu5jW789kZWXh4OBQYAJlVFQU9+7dw9fXl1u3buHi4sKxY8c4ePAg77zzDj4+PnZ9cyUPLy4ujvfff59hw4ZRs2ZN4P4MHK6urmzZsoV169bx2WefFYgbsoyMDFxcXIiKiuLs2bMcO3aMmjVrFqgb9N+7bn7yySeUL1+e/v3726gq2zhz5gxvvvkmJUqUoG7durRt25YaNWqQmppqXZ4+P9JgSPmfWU4SBT1k/9a5c+eIiopi69atBAcH4+fnR//+/RkzZgyFChWy+4uoZT7tgmLcuHHs37+fnj17Ur9+ffbu3Ut0dDRFihTh6tWr+Pj4KGQLgDVEjBgxgn79+tGpUycCAgK4cOECy5Ytsw4CtMc2MMvNZlRUFJs2bWL//v34+fnx+OOP07ZtW9q2bUtGRoaty8xVluum2WwmOzsbJycnPD09SU5OtnFlua927dps2bKFM2fO8PPPPzNy5EiKFi3KRx99lK+Dtlq0RQywYcMGtm/fzr179/D39yc9PZ2UlBSaNGlCv379bF2ePEJms5lZs2axbds2wsLC6NatG6+//vrvrvImYnH06FF+/vlnTpw4QVZWFlWqVKFevXoMHjzYbm/CLa23n3zyCYUKFcLBwYF9+/aRnZ1NdHQ0/fv3z3eLkRjh7t27uLq62sVaCw8rOTmZW7duUblyZevNR3h4OOPHj+fdd9+lUqVKNq7w71PQFjFQSEgIx48fZ/fu3bi7u1OqVCmqV69O+/btC9RJtKA4e/YsCxcuZPfu3ZQtW5bu3bvTr1+/fDn3qxjH0rKbmppKdnY2YWFhlChRgtKlS9u6NENZ9rtbt2788MMPjB07luHDh+Pj48PHH39M+/bt6dixo63LFBvYvn07O3fupEqVKlSoUIGaNWsSHR3NnDlz8v0aHQXr+a6IgSzdQQ4cOMCOHTswm80MGDCAQYMGMWjQIA4ePMi5c+e4fv26QradqlWrFtOmTQPuL/L01VdfceTIEQ0WlgdYuhG5ubkB5Nv5gf8qk8lEfHw8vXr1wsHBgYSEBNzd3fHz8yMhISHfDnaT/12FChUICgri8uXLhIeHs2HDBi5fvmxdEC0/U4u2yCOUlpZGmzZtePvttzlx4gRbtmyhSJEitG7dmjfeeIOUlBSysrIK3GjygkyDhQV+vRH/5ZdfrC3X9j5W47eOHj1KpUqVHuhS9d1333H+/HmKFCnC2bNnWbp0qQ0rlNz223NiYmIiSUlJ+Pj4cPv2bWJiYihZsiSlS5fO9w1TCtoij9DVq1dZtmyZdZltuD8n6JIlS5g5c2aBGyQoIg969913qV69eoEaq3H79m2eeOIJGjZsSGBgII0bN6ZFixY4OTmxbNkySpQoQe3atR9YAE0Kji+//JIrV65w4sQJihcvTqdOnRg0aJD1iU9+p6At8ghY+h6ePXuW77//nurVq9O8eXMCAgIemG1CU7yJFGzHjh1j3rx51qXHvby87Lpl22w2Exsby6RJk3BwcKBOnTpERkYSHh5O7dq1adeuHVWqVLF1mZLLYmNjOXnyJG3btqVTp04sWLAAPz8/Tpw4weeff07btm156qmnbF3mI6GgLfKIREVFMXDgQKpXr46XlxceHh74+vpSunRpWrVqle8ff4nI3/fbm+ywsDBWrlxJqVKlePrpp21cWe64c+cO33zzDdevX6dLly4UK1aM48ePc/ToUVq2bMkLL7xg6xIlF509e5YFCxbQq1cv5s2bx5w5c3B2dsbJyYnIyEhee+01vv/+e7t4CqygLfI/srRGbdmyhStXrvDyyy9z6tQprly5wrVr13BxceG1116zdZkiYmO7d+8mMDCQxMREDh06xLp16yhRogSjR4+mRo0adv/EKzMzk127dnHhwgW6dOlCQEAAoaGheHp6ajrMAiYtLY333nsPR0dHihYtSqlSpejVqxfp6en89NNPhISEMHXqVFuX+UgoaIs8IkOHDqVChQpMmDDBuu3OnTvcvXuXcuXK2f1FVET+WHh4OJMmTSI+Pp5mzZoRFRXF3bt38fPzo1ChQowaNYrChQvbusxHbseOHURHR1O5cmUuX75Mamoqly5d4sKFC8yYMYPKlSvbukSxoQ8//JDr16+TkJBATk4OgYGBAPTt25e6devatrhHREFb5BHIzMzko48+YuPGjTg4ONCtWzcGDRpEmTJlbF2aiOQxlqXHMzIyyMjIYMqUKTg6OvL+++/burRHrmbNmmRlZdGmTRuefvppwsLCiIiIoEyZMrRo0UKNEAVQUlIS+/btw2w2s3LlSmJiYnjuueeIiorC3d2dAQMG2M1ASFDQFnnkjh49ytKlS9mwYQOtW7fm888/t3VJImIDlgCZlZXF5s2buXv3LqVKlcLPz49SpUpRtGhRABYtWsTdu3cZOXKkjSt+9M6cOcOmTZtYs2YNxYsX5x//+Aft27fH1dXV1qWJjQwePJgSJUrg4eFBp06diI+PJyYmhjt37hAfH0+bNm1o1aqVrct8ZBS0RR4BS5/swMBAqlatSqFChYD7g54qVqxIVlaWXQzqEJG/bsWKFSxZsoSAgADc3NxwdXWlVKlSVK5cmRYtWuDg4FAgzhEbN27ku+++48qVK1SoUIGRI0cSHBxs67Ikl12/fp0KFSr8x/aIiAhOnz5NkyZN7KrPvoK2yN9kGQS5e/dufvzxR5KSkrh69Sq1atWiSpUqtGnThjp16ti6TBGxkQ0bNtCmTRs++ugj+vfvT7Vq1QgPD+f06dMcPXqUWrVq0adPH7ue3u/3pKSksGDBAnx8fOjbt6+tyxEbsDztycnJwWQy2XXXIfu+fRYxkOUede3atTz77LOEhYVx7do1atSowaRJk3ByclLQFimg4uLi2LJlC+vWrSMmJobixYtToUIF/P398ff3p0uXLqSmpgLYdcj4PYULF+bll1+2dRliQ5bv/G9vMO21r76Ctsjf5OjoiNlsJj4+nsqVK/PFF1/w7rvv4u/vz5EjR2jYsCFQsJZZFpH7ihQpwvjx47l58ybnz59n9erVXLx4kSpVqtCiRQsaN25sHfBlj+FC5K+y1+NAXUdE/oZ79+6RkJBA2bJliY+Px8PDg9mzZ3Pz5k2aN2/OvHnzWL9+PY6OjrYuVURsaPbs2fTp0wez2czVq1c5deoUJ06coHv37vTo0cPW5YmIwRS0Rf6GcePG0bJlS5o1a0axYsWA+0vKLl++nPj4eMqWLcvgwYPJzs5W2BYpYKKjozl48CCZmZn8/PPPLFq0CICsrCzrPNLVq1encOHCdvu4XETuU9cRkb/o5MmT3Lp1i44dO1q35eTkULJkSerXr0/9+vWty62ry4hIwePs7ExSUhKzZ8/G3d2db7/9lhYtWlCpUiXu3r3L9u3brV3LFLJF7JuCtshftHz5ctq3bw9gbbG2BOr09HR27NjBk08+CegiKlIQFS9enGeeeYaIiAgCAwM5fvw4P/30E0WLFiUjI8N6k67xGyL2T0Fb5C9ydnZ+YNUqs9lMZmYmLi4uHDp0CDc3N5588kk9EhYp4MaOHQtAr169iI2N5eDBgyQmJtK7d29AN+IiBYGCtshf1K1bN7744gsaNWpEuXLlAKxdRQ4cOMC0adNsWZ6I2JCllXrDhg1s3bqVuLg4unbtSqtWrejatesDP6ugLWL/NBhS5C8wm81kZGQwa9YsDh8+TIMGDahevTqlS5dm+/bthIaGMnfuXLVmixRgqampdO/enQULFtCnTx/KlSvH5cuXadq0KZMmTcLb29vWJYpILlGLtshfYDKZcHV15c033+To0aOcOnWKDRs2cOfOHXr16sVTTz0F2O/E+yLyxyyt2T///DMtW7YkOzubmjVr8vXXX/Ptt9+ybds2SpYsaesyRSQXKWiL/EWWEN2oUSNq1qzJCy+88B8/owFOIgWP5bj39PSkS5cuHD9+nOLFiwNQqFAhmjRpYl12WucIkYJBXUdE/iLLIWNpsbYEb7ViixRc0dHR3Lhxg6JFi1K1alXMZjPR0dFMnz4dNzc39u7dywcffEDTpk0VtEUKEAVtkYcQGxvLkSNHaNu2rXXgI6iLiIjcN3nyZIoWLcqzzz5LsWLFrOeG/fv3Ex0djb+/v3XubBEpOBS0RR7CsWPHePvtt3Fzc6N+/fp0796dBg0a2LosEckDzGYz3bt359tvv8XT0/OB12JiYoiMjKR27dq6MRcpgPTsSuQhNGzYkO3bt/PZZ59RpEgRJk6cSM+ePZk9ezahoaG2Lk9EbGj37t14eXnh6elJRkbGA6/l5OSwYMEC4uPjFbJFCiAFbZE/kZmZSVxcHHB/yi5PT0/GjBnD+vXrGTduHBEREfTr14+QkBAbVyoitlK6dGlKlSpFYmKitWtZZmYmAL/88guxsbF4eXnZskQRsRF1HRH5E9HR0cyfP58XX3yRgwcPsnTpUpo1a0b9+vWpV68eTk5OGtgkIowcOZL09HSeffZZateuTbFixQB44403qF69OkOHDiU7OxtHR0cbVyoiuUlBW+S/WLVqFRUrVqRu3bps376dQ4cOcfPmTVJSUggKCqJ37974+vraukwRsbH58+dz8+ZNcnJyuHfvHnB/yr+JEydStGhR9dEWKYAUtEX+i6ysLI4fP06TJk2s2+Lj45k7dy779u1j/vz5+Pj42LBCEckLMjMzCQsL4+rVq9y7dw8XFxd69Ohh67JExIa0YI3InzCbzTg5OREXF8eUKVNo3LgxderUwdvbm6effpqEhASFbBEBwNnZmcDAQAIDA21diojkEQraIn/C8pi3cOHCFCtWjL1797J//34Arly5Qtu2bQHUT1tERET+g7qOiPwF4eHhXLhwgRs3buDq6kq/fv1wc3NT30sRERH5DwraIn/A0kp9/Phxjh8/Tnx8PG3bttXqbiIiIvJQFLRF/kRqaip9+vRhzJgx/POf/7RO2VWzZk3efvtt63+LiIiI/Dt1KhX5HTk5OQCsWbOGZs2aUbZsWapUqcLatWt57LHHiImJoWjRojauUkRERPIyDYYU+R2WgY0pKSl07dqVffv2UbFiReB+a7aLiwsmk0l9s0VEROQPqUVb5E88//zzVKlShfr165OcnMzGjRtZuHAhZcqUsXVpIiIiksepj7bIv7l27RqhoaGEh4cTHBxMQEAAKSkpLF++nKtXr9KsWTM6depk6zJFREQkj1PQFvk3ffr0wd/fHx8fH1xdXRk9ejTp6ekkJyfzyy+/4OvrS6lSpWxdpoiIiORxCtoiv7F582Z27NjBxx9/zM2bN/nmm2+IjIwkPT2duLg4PDw8mDVrllaDFBERkf9KgyFFfmPhwoU0aNAAgHLlylG1alUiIiIYPXo0DRs2JCkpSbONiIiIyENRi7bIb8yaNYsVK1YA0K1bNw4dOsT06dPx9/e3/oxmGhEREZGHoaAt8jtOnjzJDz/8wJ49e/Dx8aFHjx70798fDw8PW5cmIiIi+YSCtsh/sWnTJubOnYuvry9ffPGFrcsRERGRfEJBW+QhZWdn4+joaP3/IiIiIn9GQVtERERExABaGVJERERExAAK2iIiIiIiBlDQFhERERExgIK2iIiIiIgBFLRFRERERAygoC0iIiIiYoD/Bzys0J1ecCjEAAAAAElFTkSuQmCC\n",
      "text/plain": [
       "<Figure size 864x576 with 1 Axes>"
      ]
     },
     "metadata": {},
     "output_type": "display_data"
    }
   ],
   "source": [
    "sns.set_style(\"darkgrid\")\n",
    "fig = plt.figure(figsize=(12,8))\n",
    "plt.xticks(rotation=70)\n",
    "sns.barplot(x= top_ten_directors.index, y=top_ten_directors, orient='v')\n",
    "plt.show()"
   ]
  },
  {
   "cell_type": "markdown",
   "id": "9b1cbb52",
   "metadata": {
    "papermill": {
     "duration": 0.017433,
     "end_time": "2023-01-04T15:21:31.763043",
     "exception": false,
     "start_time": "2023-01-04T15:21:31.745610",
     "status": "completed"
    },
    "tags": []
   },
   "source": [
    "Top ten directors of the Movies and TV Shows. **Rajiv Chilaka** is on the top."
   ]
  },
  {
   "cell_type": "markdown",
   "id": "6bacf5ab",
   "metadata": {
    "papermill": {
     "duration": 0.018088,
     "end_time": "2023-01-04T15:21:31.798906",
     "exception": false,
     "start_time": "2023-01-04T15:21:31.780818",
     "status": "completed"
    },
    "tags": []
   },
   "source": [
    "# Top Ten Actors "
   ]
  },
  {
   "cell_type": "code",
   "execution_count": 29,
   "id": "8d0a8456",
   "metadata": {
    "execution": {
     "iopub.execute_input": "2023-01-04T15:21:31.836406Z",
     "iopub.status.busy": "2023-01-04T15:21:31.835939Z",
     "iopub.status.idle": "2023-01-04T15:21:32.439694Z",
     "shell.execute_reply": "2023-01-04T15:21:32.438213Z"
    },
    "papermill": {
     "duration": 0.626224,
     "end_time": "2023-01-04T15:21:32.442859",
     "exception": false,
     "start_time": "2023-01-04T15:21:31.816635",
     "status": "completed"
    },
    "tags": []
   },
   "outputs": [
    {
     "data": {
      "image/png": "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\n",
      "text/plain": [
       "<Figure size 720x576 with 1 Axes>"
      ]
     },
     "metadata": {},
     "output_type": "display_data"
    }
   ],
   "source": [
    "cast_shows = df[df.cast != \"No Cast\"].set_index(\"title\").cast.str.split(',', expand=True).stack().reset_index(level=1, drop=True)\n",
    "plt.figure(figsize=(10, 8))\n",
    "plt.title(\"Top 10 Actors Movives based on the no of titles\")\n",
    "sns.countplot(y = cast_shows, order=cast_shows.value_counts().index[:10], palette=\"pastel\")\n",
    "plt.show()"
   ]
  },
  {
   "cell_type": "markdown",
   "id": "79251d0b",
   "metadata": {
    "papermill": {
     "duration": 0.017899,
     "end_time": "2023-01-04T15:21:32.479740",
     "exception": false,
     "start_time": "2023-01-04T15:21:32.461841",
     "status": "completed"
    },
    "tags": []
   },
   "source": [
    "**Anupam Kher** is on the top of the list."
   ]
  },
  {
   "cell_type": "markdown",
   "id": "4261f361",
   "metadata": {
    "papermill": {
     "duration": 0.018569,
     "end_time": "2023-01-04T15:21:32.516150",
     "exception": false,
     "start_time": "2023-01-04T15:21:32.497581",
     "status": "completed"
    },
    "tags": []
   },
   "source": [
    "# Checking the rating of different movies and shows"
   ]
  },
  {
   "cell_type": "code",
   "execution_count": 30,
   "id": "967dfdc0",
   "metadata": {
    "execution": {
     "iopub.execute_input": "2023-01-04T15:21:32.554827Z",
     "iopub.status.busy": "2023-01-04T15:21:32.554352Z",
     "iopub.status.idle": "2023-01-04T15:21:32.564840Z",
     "shell.execute_reply": "2023-01-04T15:21:32.563687Z"
    },
    "papermill": {
     "duration": 0.032618,
     "end_time": "2023-01-04T15:21:32.567140",
     "exception": false,
     "start_time": "2023-01-04T15:21:32.534522",
     "status": "completed"
    },
    "tags": []
   },
   "outputs": [
    {
     "data": {
      "text/plain": [
       "TV-MA       3205\n",
       "TV-14       2157\n",
       "TV-PG        861\n",
       "R            799\n",
       "PG-13        490\n",
       "TV-Y7        333\n",
       "TV-Y         306\n",
       "PG           287\n",
       "TV-G         220\n",
       "NR            79\n",
       "G             41\n",
       "TV-Y7-FV       6\n",
       "NC-17          3\n",
       "UR             3\n",
       "Name: rating, dtype: int64"
      ]
     },
     "execution_count": 30,
     "metadata": {},
     "output_type": "execute_result"
    }
   ],
   "source": [
    "df[\"rating\"].value_counts()\n"
   ]
  },
  {
   "cell_type": "code",
   "execution_count": 31,
   "id": "dbe88fc2",
   "metadata": {
    "execution": {
     "iopub.execute_input": "2023-01-04T15:21:32.605353Z",
     "iopub.status.busy": "2023-01-04T15:21:32.604904Z",
     "iopub.status.idle": "2023-01-04T15:21:32.614718Z",
     "shell.execute_reply": "2023-01-04T15:21:32.613786Z"
    },
    "papermill": {
     "duration": 0.031696,
     "end_time": "2023-01-04T15:21:32.616909",
     "exception": false,
     "start_time": "2023-01-04T15:21:32.585213",
     "status": "completed"
    },
    "tags": []
   },
   "outputs": [
    {
     "data": {
      "text/plain": [
       "1 Season     1791\n",
       "2 Seasons     421\n",
       "3 Seasons     198\n",
       "90 min        152\n",
       "94 min        146\n",
       "             ... \n",
       "16 min          1\n",
       "186 min         1\n",
       "193 min         1\n",
       "189 min         1\n",
       "191 min         1\n",
       "Name: duration, Length: 220, dtype: int64"
      ]
     },
     "execution_count": 31,
     "metadata": {},
     "output_type": "execute_result"
    }
   ],
   "source": [
    "df['duration'].value_counts()"
   ]
  },
  {
   "cell_type": "code",
   "execution_count": 32,
   "id": "2eb42192",
   "metadata": {
    "execution": {
     "iopub.execute_input": "2023-01-04T15:21:32.655528Z",
     "iopub.status.busy": "2023-01-04T15:21:32.654869Z",
     "iopub.status.idle": "2023-01-04T15:21:33.139730Z",
     "shell.execute_reply": "2023-01-04T15:21:33.138582Z"
    },
    "papermill": {
     "duration": 0.507076,
     "end_time": "2023-01-04T15:21:33.142188",
     "exception": false,
     "start_time": "2023-01-04T15:21:32.635112",
     "status": "completed"
    },
    "tags": []
   },
   "outputs": [
    {
     "data": {
      "image/png": "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\n",
      "text/plain": [
       "<Figure size 864x576 with 1 Axes>"
      ]
     },
     "metadata": {},
     "output_type": "display_data"
    }
   ],
   "source": [
    "# df['duration'] = df['duration'].apply(lambda x: x.strip(' min'))\n",
    "# df.head()\n",
    "plt.figure(figsize=(12,8))\n",
    "sns.barplot(x=df.rating.value_counts(), y=df.rating.value_counts().index, data=df, orient='h')\n",
    "plt.show()"
   ]
  },
  {
   "cell_type": "markdown",
   "id": "3ac77f40",
   "metadata": {
    "papermill": {
     "duration": 0.018142,
     "end_time": "2023-01-04T15:21:33.179183",
     "exception": false,
     "start_time": "2023-01-04T15:21:33.161041",
     "status": "completed"
    },
    "tags": []
   },
   "source": [
    "The highest count **TV-MA** is the rating that shows a program is intended for adults. **MA** stand for **\"Mature Audience\"**. Children age 17 and younger should not view these programs. \\\n",
    "Second largest is the **'TV-14'**. A **TV-14** program is meant for children over 14 years of age."
   ]
  },
  {
   "cell_type": "code",
   "execution_count": 33,
   "id": "2731a996",
   "metadata": {
    "execution": {
     "iopub.execute_input": "2023-01-04T15:21:33.217351Z",
     "iopub.status.busy": "2023-01-04T15:21:33.216739Z",
     "iopub.status.idle": "2023-01-04T15:21:33.223592Z",
     "shell.execute_reply": "2023-01-04T15:21:33.222596Z"
    },
    "papermill": {
     "duration": 0.028929,
     "end_time": "2023-01-04T15:21:33.226187",
     "exception": false,
     "start_time": "2023-01-04T15:21:33.197258",
     "status": "completed"
    },
    "tags": []
   },
   "outputs": [
    {
     "data": {
      "text/plain": [
       "Index(['show_id', 'type', 'title', 'director', 'cast', 'country', 'date_added',\n",
       "       'release_year', 'rating', 'duration', 'listed_in', 'description'],\n",
       "      dtype='object')"
      ]
     },
     "execution_count": 33,
     "metadata": {},
     "output_type": "execute_result"
    }
   ],
   "source": [
    "df.columns"
   ]
  },
  {
   "cell_type": "markdown",
   "id": "a764596a",
   "metadata": {
    "papermill": {
     "duration": 0.018086,
     "end_time": "2023-01-04T15:21:33.262273",
     "exception": false,
     "start_time": "2023-01-04T15:21:33.244187",
     "status": "completed"
    },
    "tags": []
   },
   "source": [
    "# Top Movies or TV shows"
   ]
  },
  {
   "cell_type": "code",
   "execution_count": 34,
   "id": "db35ddb2",
   "metadata": {
    "execution": {
     "iopub.execute_input": "2023-01-04T15:21:33.301399Z",
     "iopub.status.busy": "2023-01-04T15:21:33.300961Z",
     "iopub.status.idle": "2023-01-04T15:21:33.725594Z",
     "shell.execute_reply": "2023-01-04T15:21:33.724388Z"
    },
    "papermill": {
     "duration": 0.447639,
     "end_time": "2023-01-04T15:21:33.728789",
     "exception": false,
     "start_time": "2023-01-04T15:21:33.281150",
     "status": "completed"
    },
    "tags": []
   },
   "outputs": [
    {
     "data": {
      "image/png": "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\n",
      "text/plain": [
       "<Figure size 864x576 with 1 Axes>"
      ]
     },
     "metadata": {},
     "output_type": "display_data"
    }
   ],
   "source": [
    "plt.figure(figsize=(12,8))\n",
    "ax = sns.countplot(y=\"listed_in\",data=df, order=df.listed_in.value_counts().index[0:15])"
   ]
  },
  {
   "cell_type": "markdown",
   "id": "0c2d6b1d",
   "metadata": {
    "papermill": {
     "duration": 0.019813,
     "end_time": "2023-01-04T15:21:33.768810",
     "exception": false,
     "start_time": "2023-01-04T15:21:33.748997",
     "status": "completed"
    },
    "tags": []
   },
   "source": [
    "It is cleared that **\"Drama,International Movies\"** and **\"Documentaries\"** are leading in netflix."
   ]
  },
  {
   "cell_type": "markdown",
   "id": "21bbafc8",
   "metadata": {
    "papermill": {
     "duration": 0.019121,
     "end_time": "2023-01-04T15:21:33.807468",
     "exception": false,
     "start_time": "2023-01-04T15:21:33.788347",
     "status": "completed"
    },
    "tags": []
   },
   "source": [
    "# Year wise content"
   ]
  },
  {
   "cell_type": "code",
   "execution_count": 35,
   "id": "2754e712",
   "metadata": {
    "execution": {
     "iopub.execute_input": "2023-01-04T15:21:33.849224Z",
     "iopub.status.busy": "2023-01-04T15:21:33.848509Z",
     "iopub.status.idle": "2023-01-04T15:21:34.139835Z",
     "shell.execute_reply": "2023-01-04T15:21:34.138309Z"
    },
    "papermill": {
     "duration": 0.31583,
     "end_time": "2023-01-04T15:21:34.142733",
     "exception": false,
     "start_time": "2023-01-04T15:21:33.826903",
     "status": "completed"
    },
    "tags": []
   },
   "outputs": [
    {
     "data": {
      "image/png": "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\n",
      "text/plain": [
       "<Figure size 864x576 with 1 Axes>"
      ]
     },
     "metadata": {},
     "output_type": "display_data"
    }
   ],
   "source": [
    "plt.figure(figsize=(12, 8))\n",
    "ax = sns.countplot(y= \"release_year\",data=df, order=df.release_year.value_counts().index[0:10])\n",
    "plt.show();"
   ]
  },
  {
   "cell_type": "markdown",
   "id": "73d4b14a",
   "metadata": {
    "papermill": {
     "duration": 0.020008,
     "end_time": "2023-01-04T15:21:34.183566",
     "exception": false,
     "start_time": "2023-01-04T15:21:34.163558",
     "status": "completed"
    },
    "tags": []
   },
   "source": [
    "During **2018** the content on Netflix was much more watched.\n"
   ]
  },
  {
   "cell_type": "markdown",
   "id": "734584d9",
   "metadata": {
    "papermill": {
     "duration": 0.01967,
     "end_time": "2023-01-04T15:21:34.224203",
     "exception": false,
     "start_time": "2023-01-04T15:21:34.204533",
     "status": "completed"
    },
    "tags": []
   },
   "source": [
    "# Some conversion from categorical into numerical\n",
    "column duration has mint like 90 min so we remove string \"min\""
   ]
  },
  {
   "cell_type": "code",
   "execution_count": 36,
   "id": "f83ee614",
   "metadata": {
    "execution": {
     "iopub.execute_input": "2023-01-04T15:21:34.266632Z",
     "iopub.status.busy": "2023-01-04T15:21:34.266218Z",
     "iopub.status.idle": "2023-01-04T15:21:34.288049Z",
     "shell.execute_reply": "2023-01-04T15:21:34.287140Z"
    },
    "papermill": {
     "duration": 0.045711,
     "end_time": "2023-01-04T15:21:34.290130",
     "exception": false,
     "start_time": "2023-01-04T15:21:34.244419",
     "status": "completed"
    },
    "tags": []
   },
   "outputs": [
    {
     "data": {
      "text/html": [
       "<div>\n",
       "<style scoped>\n",
       "    .dataframe tbody tr th:only-of-type {\n",
       "        vertical-align: middle;\n",
       "    }\n",
       "\n",
       "    .dataframe tbody tr th {\n",
       "        vertical-align: top;\n",
       "    }\n",
       "\n",
       "    .dataframe thead th {\n",
       "        text-align: right;\n",
       "    }\n",
       "</style>\n",
       "<table border=\"1\" class=\"dataframe\">\n",
       "  <thead>\n",
       "    <tr style=\"text-align: right;\">\n",
       "      <th></th>\n",
       "      <th>show_id</th>\n",
       "      <th>type</th>\n",
       "      <th>title</th>\n",
       "      <th>director</th>\n",
       "      <th>cast</th>\n",
       "      <th>country</th>\n",
       "      <th>date_added</th>\n",
       "      <th>release_year</th>\n",
       "      <th>rating</th>\n",
       "      <th>duration</th>\n",
       "      <th>listed_in</th>\n",
       "      <th>description</th>\n",
       "    </tr>\n",
       "  </thead>\n",
       "  <tbody>\n",
       "    <tr>\n",
       "      <th>0</th>\n",
       "      <td>s1</td>\n",
       "      <td>Movie</td>\n",
       "      <td>Dick Johnson Is Dead</td>\n",
       "      <td>Kirsten Johnson</td>\n",
       "      <td>No Cast</td>\n",
       "      <td>United States</td>\n",
       "      <td>September 25, 2021</td>\n",
       "      <td>2020</td>\n",
       "      <td>PG-13</td>\n",
       "      <td>90</td>\n",
       "      <td>Documentaries</td>\n",
       "      <td>As her father nears the end of his life, filmm...</td>\n",
       "    </tr>\n",
       "    <tr>\n",
       "      <th>1</th>\n",
       "      <td>s2</td>\n",
       "      <td>TV Show</td>\n",
       "      <td>Blood &amp; Water</td>\n",
       "      <td>No Director</td>\n",
       "      <td>Ama Qamata, Khosi Ngema, Gail Mabalane, Thaban...</td>\n",
       "      <td>South Africa</td>\n",
       "      <td>September 24, 2021</td>\n",
       "      <td>2021</td>\n",
       "      <td>TV-MA</td>\n",
       "      <td>2 Seasons</td>\n",
       "      <td>International TV Shows, TV Dramas, TV Mysteries</td>\n",
       "      <td>After crossing paths at a party, a Cape Town t...</td>\n",
       "    </tr>\n",
       "    <tr>\n",
       "      <th>2</th>\n",
       "      <td>s3</td>\n",
       "      <td>TV Show</td>\n",
       "      <td>Ganglands</td>\n",
       "      <td>Julien Leclercq</td>\n",
       "      <td>Sami Bouajila, Tracy Gotoas, Samuel Jouy, Nabi...</td>\n",
       "      <td>Unknown</td>\n",
       "      <td>September 24, 2021</td>\n",
       "      <td>2021</td>\n",
       "      <td>TV-MA</td>\n",
       "      <td>1 Season</td>\n",
       "      <td>Crime TV Shows, International TV Shows, TV Act...</td>\n",
       "      <td>To protect his family from a powerful drug lor...</td>\n",
       "    </tr>\n",
       "    <tr>\n",
       "      <th>3</th>\n",
       "      <td>s4</td>\n",
       "      <td>TV Show</td>\n",
       "      <td>Jailbirds New Orleans</td>\n",
       "      <td>No Director</td>\n",
       "      <td>No Cast</td>\n",
       "      <td>Unknown</td>\n",
       "      <td>September 24, 2021</td>\n",
       "      <td>2021</td>\n",
       "      <td>TV-MA</td>\n",
       "      <td>1 Season</td>\n",
       "      <td>Docuseries, Reality TV</td>\n",
       "      <td>Feuds, flirtations and toilet talk go down amo...</td>\n",
       "    </tr>\n",
       "    <tr>\n",
       "      <th>4</th>\n",
       "      <td>s5</td>\n",
       "      <td>TV Show</td>\n",
       "      <td>Kota Factory</td>\n",
       "      <td>No Director</td>\n",
       "      <td>Mayur More, Jitendra Kumar, Ranjan Raj, Alam K...</td>\n",
       "      <td>India</td>\n",
       "      <td>September 24, 2021</td>\n",
       "      <td>2021</td>\n",
       "      <td>TV-MA</td>\n",
       "      <td>2 Seasons</td>\n",
       "      <td>International TV Shows, Romantic TV Shows, TV ...</td>\n",
       "      <td>In a city of coaching centers known to train I...</td>\n",
       "    </tr>\n",
       "  </tbody>\n",
       "</table>\n",
       "</div>"
      ],
      "text/plain": [
       "  show_id     type                  title         director  \\\n",
       "0      s1    Movie   Dick Johnson Is Dead  Kirsten Johnson   \n",
       "1      s2  TV Show          Blood & Water      No Director   \n",
       "2      s3  TV Show              Ganglands  Julien Leclercq   \n",
       "3      s4  TV Show  Jailbirds New Orleans      No Director   \n",
       "4      s5  TV Show           Kota Factory      No Director   \n",
       "\n",
       "                                                cast        country  \\\n",
       "0                                            No Cast  United States   \n",
       "1  Ama Qamata, Khosi Ngema, Gail Mabalane, Thaban...   South Africa   \n",
       "2  Sami Bouajila, Tracy Gotoas, Samuel Jouy, Nabi...        Unknown   \n",
       "3                                            No Cast        Unknown   \n",
       "4  Mayur More, Jitendra Kumar, Ranjan Raj, Alam K...          India   \n",
       "\n",
       "           date_added  release_year rating   duration  \\\n",
       "0  September 25, 2021          2020  PG-13        90    \n",
       "1  September 24, 2021          2021  TV-MA  2 Seasons   \n",
       "2  September 24, 2021          2021  TV-MA   1 Season   \n",
       "3  September 24, 2021          2021  TV-MA   1 Season   \n",
       "4  September 24, 2021          2021  TV-MA  2 Seasons   \n",
       "\n",
       "                                           listed_in  \\\n",
       "0                                      Documentaries   \n",
       "1    International TV Shows, TV Dramas, TV Mysteries   \n",
       "2  Crime TV Shows, International TV Shows, TV Act...   \n",
       "3                             Docuseries, Reality TV   \n",
       "4  International TV Shows, Romantic TV Shows, TV ...   \n",
       "\n",
       "                                         description  \n",
       "0  As her father nears the end of his life, filmm...  \n",
       "1  After crossing paths at a party, a Cape Town t...  \n",
       "2  To protect his family from a powerful drug lor...  \n",
       "3  Feuds, flirtations and toilet talk go down amo...  \n",
       "4  In a city of coaching centers known to train I...  "
      ]
     },
     "execution_count": 36,
     "metadata": {},
     "output_type": "execute_result"
    }
   ],
   "source": [
    "df.duration = df.duration.apply(lambda x: x.replace(\"min\", \"\")if \"min\" in x else x)\n",
    "df.head()"
   ]
  },
  {
   "cell_type": "code",
   "execution_count": 37,
   "id": "2fd9938a",
   "metadata": {
    "execution": {
     "iopub.execute_input": "2023-01-04T15:21:34.331874Z",
     "iopub.status.busy": "2023-01-04T15:21:34.331390Z",
     "iopub.status.idle": "2023-01-04T15:21:34.355919Z",
     "shell.execute_reply": "2023-01-04T15:21:34.354433Z"
    },
    "papermill": {
     "duration": 0.048285,
     "end_time": "2023-01-04T15:21:34.358402",
     "exception": false,
     "start_time": "2023-01-04T15:21:34.310117",
     "status": "completed"
    },
    "tags": []
   },
   "outputs": [
    {
     "data": {
      "text/html": [
       "<div>\n",
       "<style scoped>\n",
       "    .dataframe tbody tr th:only-of-type {\n",
       "        vertical-align: middle;\n",
       "    }\n",
       "\n",
       "    .dataframe tbody tr th {\n",
       "        vertical-align: top;\n",
       "    }\n",
       "\n",
       "    .dataframe thead th {\n",
       "        text-align: right;\n",
       "    }\n",
       "</style>\n",
       "<table border=\"1\" class=\"dataframe\">\n",
       "  <thead>\n",
       "    <tr style=\"text-align: right;\">\n",
       "      <th></th>\n",
       "      <th>show_id</th>\n",
       "      <th>type</th>\n",
       "      <th>title</th>\n",
       "      <th>director</th>\n",
       "      <th>cast</th>\n",
       "      <th>country</th>\n",
       "      <th>date_added</th>\n",
       "      <th>release_year</th>\n",
       "      <th>rating</th>\n",
       "      <th>duration</th>\n",
       "      <th>listed_in</th>\n",
       "      <th>description</th>\n",
       "    </tr>\n",
       "  </thead>\n",
       "  <tbody>\n",
       "    <tr>\n",
       "      <th>0</th>\n",
       "      <td>s1</td>\n",
       "      <td>Movie</td>\n",
       "      <td>Dick Johnson Is Dead</td>\n",
       "      <td>Kirsten Johnson</td>\n",
       "      <td>No Cast</td>\n",
       "      <td>United States</td>\n",
       "      <td>September 25, 2021</td>\n",
       "      <td>2020</td>\n",
       "      <td>PG-13</td>\n",
       "      <td>90</td>\n",
       "      <td>Documentaries</td>\n",
       "      <td>As her father nears the end of his life, filmm...</td>\n",
       "    </tr>\n",
       "    <tr>\n",
       "      <th>1</th>\n",
       "      <td>s2</td>\n",
       "      <td>TV Show</td>\n",
       "      <td>Blood &amp; Water</td>\n",
       "      <td>No Director</td>\n",
       "      <td>Ama Qamata, Khosi Ngema, Gail Mabalane, Thaban...</td>\n",
       "      <td>South Africa</td>\n",
       "      <td>September 24, 2021</td>\n",
       "      <td>2021</td>\n",
       "      <td>TV-MA</td>\n",
       "      <td>2  s</td>\n",
       "      <td>International TV Shows, TV Dramas, TV Mysteries</td>\n",
       "      <td>After crossing paths at a party, a Cape Town t...</td>\n",
       "    </tr>\n",
       "    <tr>\n",
       "      <th>2</th>\n",
       "      <td>s3</td>\n",
       "      <td>TV Show</td>\n",
       "      <td>Ganglands</td>\n",
       "      <td>Julien Leclercq</td>\n",
       "      <td>Sami Bouajila, Tracy Gotoas, Samuel Jouy, Nabi...</td>\n",
       "      <td>Unknown</td>\n",
       "      <td>September 24, 2021</td>\n",
       "      <td>2021</td>\n",
       "      <td>TV-MA</td>\n",
       "      <td>1</td>\n",
       "      <td>Crime TV Shows, International TV Shows, TV Act...</td>\n",
       "      <td>To protect his family from a powerful drug lor...</td>\n",
       "    </tr>\n",
       "    <tr>\n",
       "      <th>3</th>\n",
       "      <td>s4</td>\n",
       "      <td>TV Show</td>\n",
       "      <td>Jailbirds New Orleans</td>\n",
       "      <td>No Director</td>\n",
       "      <td>No Cast</td>\n",
       "      <td>Unknown</td>\n",
       "      <td>September 24, 2021</td>\n",
       "      <td>2021</td>\n",
       "      <td>TV-MA</td>\n",
       "      <td>1</td>\n",
       "      <td>Docuseries, Reality TV</td>\n",
       "      <td>Feuds, flirtations and toilet talk go down amo...</td>\n",
       "    </tr>\n",
       "    <tr>\n",
       "      <th>4</th>\n",
       "      <td>s5</td>\n",
       "      <td>TV Show</td>\n",
       "      <td>Kota Factory</td>\n",
       "      <td>No Director</td>\n",
       "      <td>Mayur More, Jitendra Kumar, Ranjan Raj, Alam K...</td>\n",
       "      <td>India</td>\n",
       "      <td>September 24, 2021</td>\n",
       "      <td>2021</td>\n",
       "      <td>TV-MA</td>\n",
       "      <td>2  s</td>\n",
       "      <td>International TV Shows, Romantic TV Shows, TV ...</td>\n",
       "      <td>In a city of coaching centers known to train I...</td>\n",
       "    </tr>\n",
       "  </tbody>\n",
       "</table>\n",
       "</div>"
      ],
      "text/plain": [
       "  show_id     type                  title         director  \\\n",
       "0      s1    Movie   Dick Johnson Is Dead  Kirsten Johnson   \n",
       "1      s2  TV Show          Blood & Water      No Director   \n",
       "2      s3  TV Show              Ganglands  Julien Leclercq   \n",
       "3      s4  TV Show  Jailbirds New Orleans      No Director   \n",
       "4      s5  TV Show           Kota Factory      No Director   \n",
       "\n",
       "                                                cast        country  \\\n",
       "0                                            No Cast  United States   \n",
       "1  Ama Qamata, Khosi Ngema, Gail Mabalane, Thaban...   South Africa   \n",
       "2  Sami Bouajila, Tracy Gotoas, Samuel Jouy, Nabi...        Unknown   \n",
       "3                                            No Cast        Unknown   \n",
       "4  Mayur More, Jitendra Kumar, Ranjan Raj, Alam K...          India   \n",
       "\n",
       "           date_added  release_year rating duration  \\\n",
       "0  September 25, 2021          2020  PG-13      90    \n",
       "1  September 24, 2021          2021  TV-MA     2  s   \n",
       "2  September 24, 2021          2021  TV-MA      1     \n",
       "3  September 24, 2021          2021  TV-MA      1     \n",
       "4  September 24, 2021          2021  TV-MA     2  s   \n",
       "\n",
       "                                           listed_in  \\\n",
       "0                                      Documentaries   \n",
       "1    International TV Shows, TV Dramas, TV Mysteries   \n",
       "2  Crime TV Shows, International TV Shows, TV Act...   \n",
       "3                             Docuseries, Reality TV   \n",
       "4  International TV Shows, Romantic TV Shows, TV ...   \n",
       "\n",
       "                                         description  \n",
       "0  As her father nears the end of his life, filmm...  \n",
       "1  After crossing paths at a party, a Cape Town t...  \n",
       "2  To protect his family from a powerful drug lor...  \n",
       "3  Feuds, flirtations and toilet talk go down amo...  \n",
       "4  In a city of coaching centers known to train I...  "
      ]
     },
     "execution_count": 37,
     "metadata": {},
     "output_type": "execute_result"
    }
   ],
   "source": [
    "df.duration = df.duration.apply(lambda x: x.replace(\"Season\", \" \")if \"Season\" in x else x)\n",
    "df.head()"
   ]
  },
  {
   "cell_type": "code",
   "execution_count": 38,
   "id": "2ccfa960",
   "metadata": {
    "execution": {
     "iopub.execute_input": "2023-01-04T15:21:34.400280Z",
     "iopub.status.busy": "2023-01-04T15:21:34.399777Z",
     "iopub.status.idle": "2023-01-04T15:21:34.422389Z",
     "shell.execute_reply": "2023-01-04T15:21:34.421200Z"
    },
    "papermill": {
     "duration": 0.046675,
     "end_time": "2023-01-04T15:21:34.425032",
     "exception": false,
     "start_time": "2023-01-04T15:21:34.378357",
     "status": "completed"
    },
    "tags": []
   },
   "outputs": [
    {
     "data": {
      "text/html": [
       "<div>\n",
       "<style scoped>\n",
       "    .dataframe tbody tr th:only-of-type {\n",
       "        vertical-align: middle;\n",
       "    }\n",
       "\n",
       "    .dataframe tbody tr th {\n",
       "        vertical-align: top;\n",
       "    }\n",
       "\n",
       "    .dataframe thead th {\n",
       "        text-align: right;\n",
       "    }\n",
       "</style>\n",
       "<table border=\"1\" class=\"dataframe\">\n",
       "  <thead>\n",
       "    <tr style=\"text-align: right;\">\n",
       "      <th></th>\n",
       "      <th>release_year</th>\n",
       "    </tr>\n",
       "  </thead>\n",
       "  <tbody>\n",
       "    <tr>\n",
       "      <th>count</th>\n",
       "      <td>8790.000000</td>\n",
       "    </tr>\n",
       "    <tr>\n",
       "      <th>mean</th>\n",
       "      <td>2014.183163</td>\n",
       "    </tr>\n",
       "    <tr>\n",
       "      <th>std</th>\n",
       "      <td>8.825466</td>\n",
       "    </tr>\n",
       "    <tr>\n",
       "      <th>min</th>\n",
       "      <td>1925.000000</td>\n",
       "    </tr>\n",
       "    <tr>\n",
       "      <th>25%</th>\n",
       "      <td>2013.000000</td>\n",
       "    </tr>\n",
       "    <tr>\n",
       "      <th>50%</th>\n",
       "      <td>2017.000000</td>\n",
       "    </tr>\n",
       "    <tr>\n",
       "      <th>75%</th>\n",
       "      <td>2019.000000</td>\n",
       "    </tr>\n",
       "    <tr>\n",
       "      <th>max</th>\n",
       "      <td>2021.000000</td>\n",
       "    </tr>\n",
       "  </tbody>\n",
       "</table>\n",
       "</div>"
      ],
      "text/plain": [
       "       release_year\n",
       "count   8790.000000\n",
       "mean    2014.183163\n",
       "std        8.825466\n",
       "min     1925.000000\n",
       "25%     2013.000000\n",
       "50%     2017.000000\n",
       "75%     2019.000000\n",
       "max     2021.000000"
      ]
     },
     "execution_count": 38,
     "metadata": {},
     "output_type": "execute_result"
    }
   ],
   "source": [
    "df.loc[:, [\"duration\"]]==df.loc[:, [\"duration\"]].apply(lambda x: x.astype('int64', errors='ignore'))\n",
    "df.describe()"
   ]
  },
  {
   "cell_type": "code",
   "execution_count": 39,
   "id": "46b780c9",
   "metadata": {
    "execution": {
     "iopub.execute_input": "2023-01-04T15:21:34.467395Z",
     "iopub.status.busy": "2023-01-04T15:21:34.466875Z",
     "iopub.status.idle": "2023-01-04T15:21:34.485650Z",
     "shell.execute_reply": "2023-01-04T15:21:34.484784Z"
    },
    "papermill": {
     "duration": 0.042638,
     "end_time": "2023-01-04T15:21:34.487899",
     "exception": false,
     "start_time": "2023-01-04T15:21:34.445261",
     "status": "completed"
    },
    "tags": []
   },
   "outputs": [
    {
     "data": {
      "text/html": [
       "<div>\n",
       "<style scoped>\n",
       "    .dataframe tbody tr th:only-of-type {\n",
       "        vertical-align: middle;\n",
       "    }\n",
       "\n",
       "    .dataframe tbody tr th {\n",
       "        vertical-align: top;\n",
       "    }\n",
       "\n",
       "    .dataframe thead th {\n",
       "        text-align: right;\n",
       "    }\n",
       "</style>\n",
       "<table border=\"1\" class=\"dataframe\">\n",
       "  <thead>\n",
       "    <tr style=\"text-align: right;\">\n",
       "      <th></th>\n",
       "      <th>show_id</th>\n",
       "      <th>type</th>\n",
       "      <th>title</th>\n",
       "      <th>director</th>\n",
       "      <th>cast</th>\n",
       "      <th>country</th>\n",
       "      <th>date_added</th>\n",
       "      <th>release_year</th>\n",
       "      <th>rating</th>\n",
       "      <th>duration</th>\n",
       "      <th>listed_in</th>\n",
       "      <th>description</th>\n",
       "    </tr>\n",
       "  </thead>\n",
       "  <tbody>\n",
       "    <tr>\n",
       "      <th>0</th>\n",
       "      <td>s1</td>\n",
       "      <td>Movie</td>\n",
       "      <td>Dick Johnson Is Dead</td>\n",
       "      <td>Kirsten Johnson</td>\n",
       "      <td>No Cast</td>\n",
       "      <td>United States</td>\n",
       "      <td>September 25, 2021</td>\n",
       "      <td>2020</td>\n",
       "      <td>PG-13</td>\n",
       "      <td>90</td>\n",
       "      <td>Documentaries</td>\n",
       "      <td>As her father nears the end of his life, filmm...</td>\n",
       "    </tr>\n",
       "    <tr>\n",
       "      <th>1</th>\n",
       "      <td>s2</td>\n",
       "      <td>TV Show</td>\n",
       "      <td>Blood &amp; Water</td>\n",
       "      <td>No Director</td>\n",
       "      <td>Ama Qamata, Khosi Ngema, Gail Mabalane, Thaban...</td>\n",
       "      <td>South Africa</td>\n",
       "      <td>September 24, 2021</td>\n",
       "      <td>2021</td>\n",
       "      <td>TV-MA</td>\n",
       "      <td>2  s</td>\n",
       "      <td>International TV Shows, TV Dramas, TV Mysteries</td>\n",
       "      <td>After crossing paths at a party, a Cape Town t...</td>\n",
       "    </tr>\n",
       "    <tr>\n",
       "      <th>2</th>\n",
       "      <td>s3</td>\n",
       "      <td>TV Show</td>\n",
       "      <td>Ganglands</td>\n",
       "      <td>Julien Leclercq</td>\n",
       "      <td>Sami Bouajila, Tracy Gotoas, Samuel Jouy, Nabi...</td>\n",
       "      <td>Unknown</td>\n",
       "      <td>September 24, 2021</td>\n",
       "      <td>2021</td>\n",
       "      <td>TV-MA</td>\n",
       "      <td>1</td>\n",
       "      <td>Crime TV Shows, International TV Shows, TV Act...</td>\n",
       "      <td>To protect his family from a powerful drug lor...</td>\n",
       "    </tr>\n",
       "    <tr>\n",
       "      <th>3</th>\n",
       "      <td>s4</td>\n",
       "      <td>TV Show</td>\n",
       "      <td>Jailbirds New Orleans</td>\n",
       "      <td>No Director</td>\n",
       "      <td>No Cast</td>\n",
       "      <td>Unknown</td>\n",
       "      <td>September 24, 2021</td>\n",
       "      <td>2021</td>\n",
       "      <td>TV-MA</td>\n",
       "      <td>1</td>\n",
       "      <td>Docuseries, Reality TV</td>\n",
       "      <td>Feuds, flirtations and toilet talk go down amo...</td>\n",
       "    </tr>\n",
       "    <tr>\n",
       "      <th>4</th>\n",
       "      <td>s5</td>\n",
       "      <td>TV Show</td>\n",
       "      <td>Kota Factory</td>\n",
       "      <td>No Director</td>\n",
       "      <td>Mayur More, Jitendra Kumar, Ranjan Raj, Alam K...</td>\n",
       "      <td>India</td>\n",
       "      <td>September 24, 2021</td>\n",
       "      <td>2021</td>\n",
       "      <td>TV-MA</td>\n",
       "      <td>2  s</td>\n",
       "      <td>International TV Shows, Romantic TV Shows, TV ...</td>\n",
       "      <td>In a city of coaching centers known to train I...</td>\n",
       "    </tr>\n",
       "  </tbody>\n",
       "</table>\n",
       "</div>"
      ],
      "text/plain": [
       "  show_id     type                  title         director  \\\n",
       "0      s1    Movie   Dick Johnson Is Dead  Kirsten Johnson   \n",
       "1      s2  TV Show          Blood & Water      No Director   \n",
       "2      s3  TV Show              Ganglands  Julien Leclercq   \n",
       "3      s4  TV Show  Jailbirds New Orleans      No Director   \n",
       "4      s5  TV Show           Kota Factory      No Director   \n",
       "\n",
       "                                                cast        country  \\\n",
       "0                                            No Cast  United States   \n",
       "1  Ama Qamata, Khosi Ngema, Gail Mabalane, Thaban...   South Africa   \n",
       "2  Sami Bouajila, Tracy Gotoas, Samuel Jouy, Nabi...        Unknown   \n",
       "3                                            No Cast        Unknown   \n",
       "4  Mayur More, Jitendra Kumar, Ranjan Raj, Alam K...          India   \n",
       "\n",
       "           date_added  release_year rating duration  \\\n",
       "0  September 25, 2021          2020  PG-13      90    \n",
       "1  September 24, 2021          2021  TV-MA     2  s   \n",
       "2  September 24, 2021          2021  TV-MA      1     \n",
       "3  September 24, 2021          2021  TV-MA      1     \n",
       "4  September 24, 2021          2021  TV-MA     2  s   \n",
       "\n",
       "                                           listed_in  \\\n",
       "0                                      Documentaries   \n",
       "1    International TV Shows, TV Dramas, TV Mysteries   \n",
       "2  Crime TV Shows, International TV Shows, TV Act...   \n",
       "3                             Docuseries, Reality TV   \n",
       "4  International TV Shows, Romantic TV Shows, TV ...   \n",
       "\n",
       "                                         description  \n",
       "0  As her father nears the end of his life, filmm...  \n",
       "1  After crossing paths at a party, a Cape Town t...  \n",
       "2  To protect his family from a powerful drug lor...  \n",
       "3  Feuds, flirtations and toilet talk go down amo...  \n",
       "4  In a city of coaching centers known to train I...  "
      ]
     },
     "execution_count": 39,
     "metadata": {},
     "output_type": "execute_result"
    }
   ],
   "source": [
    "df.head()"
   ]
  },
  {
   "cell_type": "markdown",
   "id": "8b85aa10",
   "metadata": {
    "papermill": {
     "duration": 0.021844,
     "end_time": "2023-01-04T15:21:34.530463",
     "exception": false,
     "start_time": "2023-01-04T15:21:34.508619",
     "status": "completed"
    },
    "tags": []
   },
   "source": [
    "### Good Luck! Thank for visiting here."
   ]
  }
 ],
 "metadata": {
  "kernelspec": {
   "display_name": "Python 3",
   "language": "python",
   "name": "python3"
  },
  "language_info": {
   "codemirror_mode": {
    "name": "ipython",
    "version": 3
   },
   "file_extension": ".py",
   "mimetype": "text/x-python",
   "name": "python",
   "nbconvert_exporter": "python",
   "pygments_lexer": "ipython3",
   "version": "3.7.12"
  },
  "papermill": {
   "default_parameters": {},
   "duration": 18.894632,
   "end_time": "2023-01-04T15:21:35.678212",
   "environment_variables": {},
   "exception": null,
   "input_path": "__notebook__.ipynb",
   "output_path": "__notebook__.ipynb",
   "parameters": {},
   "start_time": "2023-01-04T15:21:16.783580",
   "version": "2.3.4"
  }
 },
 "nbformat": 4,
 "nbformat_minor": 5
}
